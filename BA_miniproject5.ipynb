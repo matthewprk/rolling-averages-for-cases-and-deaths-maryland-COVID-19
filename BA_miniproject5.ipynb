{
  "nbformat": 4,
  "nbformat_minor": 0,
  "metadata": {
    "colab": {
      "name": "BA_miniproject5.ipynb",
      "provenance": [],
      "authorship_tag": "ABX9TyPR+mMematGfdi20emY7BKt",
      "include_colab_link": true
    },
    "kernelspec": {
      "name": "python3",
      "display_name": "Python 3"
    }
  },
  "cells": [
    {
      "cell_type": "markdown",
      "metadata": {
        "id": "view-in-github",
        "colab_type": "text"
      },
      "source": [
        "<a href=\"https://colab.research.google.com/github/matthewprk/rolling-averages-for-deaths-testing-hospitalizations-maryland-COVID-19/blob/main/BA_miniproject5.ipynb\" target=\"_parent\"><img src=\"https://colab.research.google.com/assets/colab-badge.svg\" alt=\"Open In Colab\"/></a>"
      ]
    },
    {
      "cell_type": "markdown",
      "metadata": {
        "id": "Sx5DTrNjzeFH"
      },
      "source": [
        "# Import Libraries"
      ]
    },
    {
      "cell_type": "code",
      "metadata": {
        "id": "YbSvQ2wv23Nq"
      },
      "source": [
        "# import libraries\n",
        "\n",
        "import pandas as pd\n",
        "import numpy as np\n",
        "import plotly.express as px\n",
        "\n",
        "from google.colab import files"
      ],
      "execution_count": 313,
      "outputs": []
    },
    {
      "cell_type": "markdown",
      "metadata": {
        "id": "0WAFSdIszad-"
      },
      "source": [
        "# Import Datasets and create Dataframes"
      ]
    },
    {
      "cell_type": "code",
      "metadata": {
        "id": "0rf594pCzP8G"
      },
      "source": [
        "# For Datasets\n",
        "\n",
        "## Maryland Covid-19 Deaths by Date\n",
        "df_deaths_date=pd.read_csv(\"https://raw.githubusercontent.com/matthewprk/rolling-averages-for-deaths-testing-hospitalizations-maryland-COVID-19/main/MDC19_DeathsbyDate.csv\")\n",
        "## Maryland Covid-19 Hospitalizations by Date\n",
        "df_hospitalizations_date=pd.read_csv(\"https://raw.githubusercontent.com/matthewprk/rolling-averages-for-deaths-testing-hospitalizations-maryland-COVID-19/main/MDC19_HospitalizationsByDate.csv\")\n",
        "## Maryland Covid-19 Testing by Date\n",
        "df_testing_date=pd.read_csv(\"https://raw.githubusercontent.com/matthewprk/rolling-averages-for-deaths-testing-hospitalizations-maryland-COVID-19/main/MDC19_TestingbyDate.csv\")"
      ],
      "execution_count": 314,
      "outputs": []
    },
    {
      "cell_type": "markdown",
      "metadata": {
        "id": "wBtGRVw7zYqp"
      },
      "source": [
        "# Preview Datasets"
      ]
    },
    {
      "cell_type": "code",
      "metadata": {
        "colab": {
          "base_uri": "https://localhost:8080/",
          "height": 188
        },
        "id": "FBOQp2WS0L4M",
        "outputId": "faa9f206-e307-4a20-9cf1-d4a9414612f3"
      },
      "source": [
        "# Preview Hospitalization Data\n",
        "df_hospitalizations_date.head()"
      ],
      "execution_count": 315,
      "outputs": [
        {
          "output_type": "execute_result",
          "data": {
            "text/html": [
              "<div>\n",
              "<style scoped>\n",
              "    .dataframe tbody tr th:only-of-type {\n",
              "        vertical-align: middle;\n",
              "    }\n",
              "\n",
              "    .dataframe tbody tr th {\n",
              "        vertical-align: top;\n",
              "    }\n",
              "\n",
              "    .dataframe thead th {\n",
              "        text-align: right;\n",
              "    }\n",
              "</style>\n",
              "<table border=\"1\" class=\"dataframe\">\n",
              "  <thead>\n",
              "    <tr style=\"text-align: right;\">\n",
              "      <th></th>\n",
              "      <th>OBJECTID</th>\n",
              "      <th>DATE</th>\n",
              "      <th>Acute</th>\n",
              "      <th>ICU</th>\n",
              "      <th>Total</th>\n",
              "    </tr>\n",
              "  </thead>\n",
              "  <tbody>\n",
              "    <tr>\n",
              "      <th>0</th>\n",
              "      <td>1</td>\n",
              "      <td>2020/03/26 14:00:00+00</td>\n",
              "      <td>68.0</td>\n",
              "      <td>40.0</td>\n",
              "      <td>108.0</td>\n",
              "    </tr>\n",
              "    <tr>\n",
              "      <th>1</th>\n",
              "      <td>2</td>\n",
              "      <td>2020/03/27 14:00:00+00</td>\n",
              "      <td>76.0</td>\n",
              "      <td>70.0</td>\n",
              "      <td>146.0</td>\n",
              "    </tr>\n",
              "    <tr>\n",
              "      <th>2</th>\n",
              "      <td>3</td>\n",
              "      <td>2020/03/28 14:00:00+00</td>\n",
              "      <td>113.0</td>\n",
              "      <td>72.0</td>\n",
              "      <td>185.0</td>\n",
              "    </tr>\n",
              "    <tr>\n",
              "      <th>3</th>\n",
              "      <td>4</td>\n",
              "      <td>2020/03/29 14:00:00+00</td>\n",
              "      <td>118.0</td>\n",
              "      <td>94.0</td>\n",
              "      <td>212.0</td>\n",
              "    </tr>\n",
              "    <tr>\n",
              "      <th>4</th>\n",
              "      <td>5</td>\n",
              "      <td>2020/03/30 14:00:00+00</td>\n",
              "      <td>150.0</td>\n",
              "      <td>110.0</td>\n",
              "      <td>260.0</td>\n",
              "    </tr>\n",
              "  </tbody>\n",
              "</table>\n",
              "</div>"
            ],
            "text/plain": [
              "   OBJECTID                    DATE  Acute    ICU  Total\n",
              "0         1  2020/03/26 14:00:00+00   68.0   40.0  108.0\n",
              "1         2  2020/03/27 14:00:00+00   76.0   70.0  146.0\n",
              "2         3  2020/03/28 14:00:00+00  113.0   72.0  185.0\n",
              "3         4  2020/03/29 14:00:00+00  118.0   94.0  212.0\n",
              "4         5  2020/03/30 14:00:00+00  150.0  110.0  260.0"
            ]
          },
          "metadata": {
            "tags": []
          },
          "execution_count": 315
        }
      ]
    },
    {
      "cell_type": "code",
      "metadata": {
        "colab": {
          "base_uri": "https://localhost:8080/",
          "height": 188
        },
        "id": "alf00M6T2b5R",
        "outputId": "c7a105e4-d1a5-4570-fbf2-52e08d280b5e"
      },
      "source": [
        "# Preview Hospitalization Data\n",
        "df_hospitalizations_date.tail()"
      ],
      "execution_count": 316,
      "outputs": [
        {
          "output_type": "execute_result",
          "data": {
            "text/html": [
              "<div>\n",
              "<style scoped>\n",
              "    .dataframe tbody tr th:only-of-type {\n",
              "        vertical-align: middle;\n",
              "    }\n",
              "\n",
              "    .dataframe tbody tr th {\n",
              "        vertical-align: top;\n",
              "    }\n",
              "\n",
              "    .dataframe thead th {\n",
              "        text-align: right;\n",
              "    }\n",
              "</style>\n",
              "<table border=\"1\" class=\"dataframe\">\n",
              "  <thead>\n",
              "    <tr style=\"text-align: right;\">\n",
              "      <th></th>\n",
              "      <th>OBJECTID</th>\n",
              "      <th>DATE</th>\n",
              "      <th>Acute</th>\n",
              "      <th>ICU</th>\n",
              "      <th>Total</th>\n",
              "    </tr>\n",
              "  </thead>\n",
              "  <tbody>\n",
              "    <tr>\n",
              "      <th>248</th>\n",
              "      <td>249</td>\n",
              "      <td>2020/11/29 15:00:00+00</td>\n",
              "      <td>1102.0</td>\n",
              "      <td>359.0</td>\n",
              "      <td>1461.0</td>\n",
              "    </tr>\n",
              "    <tr>\n",
              "      <th>249</th>\n",
              "      <td>250</td>\n",
              "      <td>2020/11/30 15:00:00+00</td>\n",
              "      <td>1183.0</td>\n",
              "      <td>344.0</td>\n",
              "      <td>1527.0</td>\n",
              "    </tr>\n",
              "    <tr>\n",
              "      <th>250</th>\n",
              "      <td>251</td>\n",
              "      <td>2020/12/01 15:00:00+00</td>\n",
              "      <td>1233.0</td>\n",
              "      <td>350.0</td>\n",
              "      <td>1583.0</td>\n",
              "    </tr>\n",
              "    <tr>\n",
              "      <th>251</th>\n",
              "      <td>252</td>\n",
              "      <td>2020/12/02 15:00:00+00</td>\n",
              "      <td>1219.0</td>\n",
              "      <td>359.0</td>\n",
              "      <td>1578.0</td>\n",
              "    </tr>\n",
              "    <tr>\n",
              "      <th>252</th>\n",
              "      <td>253</td>\n",
              "      <td>2020/12/03 15:00:00+00</td>\n",
              "      <td>1209.0</td>\n",
              "      <td>364.0</td>\n",
              "      <td>1573.0</td>\n",
              "    </tr>\n",
              "  </tbody>\n",
              "</table>\n",
              "</div>"
            ],
            "text/plain": [
              "     OBJECTID                    DATE   Acute    ICU   Total\n",
              "248       249  2020/11/29 15:00:00+00  1102.0  359.0  1461.0\n",
              "249       250  2020/11/30 15:00:00+00  1183.0  344.0  1527.0\n",
              "250       251  2020/12/01 15:00:00+00  1233.0  350.0  1583.0\n",
              "251       252  2020/12/02 15:00:00+00  1219.0  359.0  1578.0\n",
              "252       253  2020/12/03 15:00:00+00  1209.0  364.0  1573.0"
            ]
          },
          "metadata": {
            "tags": []
          },
          "execution_count": 316
        }
      ]
    },
    {
      "cell_type": "code",
      "metadata": {
        "colab": {
          "base_uri": "https://localhost:8080/",
          "height": 188
        },
        "id": "ceBmchDD1sI9",
        "outputId": "c1bdc8da-0098-423f-bd5d-b564c6192b24"
      },
      "source": [
        "# Preview Deaths Data\n",
        "df_deaths_date.head()"
      ],
      "execution_count": 317,
      "outputs": [
        {
          "output_type": "execute_result",
          "data": {
            "text/html": [
              "<div>\n",
              "<style scoped>\n",
              "    .dataframe tbody tr th:only-of-type {\n",
              "        vertical-align: middle;\n",
              "    }\n",
              "\n",
              "    .dataframe tbody tr th {\n",
              "        vertical-align: top;\n",
              "    }\n",
              "\n",
              "    .dataframe thead th {\n",
              "        text-align: right;\n",
              "    }\n",
              "</style>\n",
              "<table border=\"1\" class=\"dataframe\">\n",
              "  <thead>\n",
              "    <tr style=\"text-align: right;\">\n",
              "      <th></th>\n",
              "      <th>OBJECTID</th>\n",
              "      <th>DATE</th>\n",
              "      <th>Count_</th>\n",
              "    </tr>\n",
              "  </thead>\n",
              "  <tbody>\n",
              "    <tr>\n",
              "      <th>0</th>\n",
              "      <td>1</td>\n",
              "      <td>2020/03/18 14:00:00+00</td>\n",
              "      <td>2</td>\n",
              "    </tr>\n",
              "    <tr>\n",
              "      <th>1</th>\n",
              "      <td>2</td>\n",
              "      <td>2020/03/19 14:00:00+00</td>\n",
              "      <td>0</td>\n",
              "    </tr>\n",
              "    <tr>\n",
              "      <th>2</th>\n",
              "      <td>3</td>\n",
              "      <td>2020/03/20 14:00:00+00</td>\n",
              "      <td>1</td>\n",
              "    </tr>\n",
              "    <tr>\n",
              "      <th>3</th>\n",
              "      <td>4</td>\n",
              "      <td>2020/03/21 14:00:00+00</td>\n",
              "      <td>0</td>\n",
              "    </tr>\n",
              "    <tr>\n",
              "      <th>4</th>\n",
              "      <td>5</td>\n",
              "      <td>2020/03/22 14:00:00+00</td>\n",
              "      <td>1</td>\n",
              "    </tr>\n",
              "  </tbody>\n",
              "</table>\n",
              "</div>"
            ],
            "text/plain": [
              "   OBJECTID                    DATE  Count_\n",
              "0         1  2020/03/18 14:00:00+00       2\n",
              "1         2  2020/03/19 14:00:00+00       0\n",
              "2         3  2020/03/20 14:00:00+00       1\n",
              "3         4  2020/03/21 14:00:00+00       0\n",
              "4         5  2020/03/22 14:00:00+00       1"
            ]
          },
          "metadata": {
            "tags": []
          },
          "execution_count": 317
        }
      ]
    },
    {
      "cell_type": "code",
      "metadata": {
        "colab": {
          "base_uri": "https://localhost:8080/",
          "height": 188
        },
        "id": "mol_Gxci2fYH",
        "outputId": "d2b6dbdd-f74f-4c30-c93e-b439753a595e"
      },
      "source": [
        "# Preview Deaths Data\n",
        "df_deaths_date.tail()"
      ],
      "execution_count": 318,
      "outputs": [
        {
          "output_type": "execute_result",
          "data": {
            "text/html": [
              "<div>\n",
              "<style scoped>\n",
              "    .dataframe tbody tr th:only-of-type {\n",
              "        vertical-align: middle;\n",
              "    }\n",
              "\n",
              "    .dataframe tbody tr th {\n",
              "        vertical-align: top;\n",
              "    }\n",
              "\n",
              "    .dataframe thead th {\n",
              "        text-align: right;\n",
              "    }\n",
              "</style>\n",
              "<table border=\"1\" class=\"dataframe\">\n",
              "  <thead>\n",
              "    <tr style=\"text-align: right;\">\n",
              "      <th></th>\n",
              "      <th>OBJECTID</th>\n",
              "      <th>DATE</th>\n",
              "      <th>Count_</th>\n",
              "    </tr>\n",
              "  </thead>\n",
              "  <tbody>\n",
              "    <tr>\n",
              "      <th>256</th>\n",
              "      <td>257</td>\n",
              "      <td>2020/11/29 15:00:00+00</td>\n",
              "      <td>20</td>\n",
              "    </tr>\n",
              "    <tr>\n",
              "      <th>257</th>\n",
              "      <td>258</td>\n",
              "      <td>2020/11/30 15:00:00+00</td>\n",
              "      <td>29</td>\n",
              "    </tr>\n",
              "    <tr>\n",
              "      <th>258</th>\n",
              "      <td>259</td>\n",
              "      <td>2020/12/01 15:00:00+00</td>\n",
              "      <td>35</td>\n",
              "    </tr>\n",
              "    <tr>\n",
              "      <th>259</th>\n",
              "      <td>260</td>\n",
              "      <td>2020/12/02 15:00:00+00</td>\n",
              "      <td>26</td>\n",
              "    </tr>\n",
              "    <tr>\n",
              "      <th>260</th>\n",
              "      <td>261</td>\n",
              "      <td>2020/12/03 15:00:00+00</td>\n",
              "      <td>0</td>\n",
              "    </tr>\n",
              "  </tbody>\n",
              "</table>\n",
              "</div>"
            ],
            "text/plain": [
              "     OBJECTID                    DATE  Count_\n",
              "256       257  2020/11/29 15:00:00+00      20\n",
              "257       258  2020/11/30 15:00:00+00      29\n",
              "258       259  2020/12/01 15:00:00+00      35\n",
              "259       260  2020/12/02 15:00:00+00      26\n",
              "260       261  2020/12/03 15:00:00+00       0"
            ]
          },
          "metadata": {
            "tags": []
          },
          "execution_count": 318
        }
      ]
    },
    {
      "cell_type": "code",
      "metadata": {
        "colab": {
          "base_uri": "https://localhost:8080/",
          "height": 188
        },
        "id": "hInRxQ6c1r74",
        "outputId": "da0893a7-d6e6-4251-8827-dc34abb65985"
      },
      "source": [
        "# Preview Testing Data\n",
        "df_testing_date.head()"
      ],
      "execution_count": 319,
      "outputs": [
        {
          "output_type": "execute_result",
          "data": {
            "text/html": [
              "<div>\n",
              "<style scoped>\n",
              "    .dataframe tbody tr th:only-of-type {\n",
              "        vertical-align: middle;\n",
              "    }\n",
              "\n",
              "    .dataframe tbody tr th {\n",
              "        vertical-align: top;\n",
              "    }\n",
              "\n",
              "    .dataframe thead th {\n",
              "        text-align: right;\n",
              "    }\n",
              "</style>\n",
              "<table border=\"1\" class=\"dataframe\">\n",
              "  <thead>\n",
              "    <tr style=\"text-align: right;\">\n",
              "      <th></th>\n",
              "      <th>OBJECTID</th>\n",
              "      <th>date</th>\n",
              "      <th>number_of_tests</th>\n",
              "      <th>number_of_positives</th>\n",
              "      <th>percent_positive</th>\n",
              "      <th>rolling_avg</th>\n",
              "    </tr>\n",
              "  </thead>\n",
              "  <tbody>\n",
              "    <tr>\n",
              "      <th>0</th>\n",
              "      <td>1</td>\n",
              "      <td>2020/03/23 14:00:00+00</td>\n",
              "      <td>955</td>\n",
              "      <td>77</td>\n",
              "      <td>8.06</td>\n",
              "      <td>NaN</td>\n",
              "    </tr>\n",
              "    <tr>\n",
              "      <th>1</th>\n",
              "      <td>2</td>\n",
              "      <td>2020/03/24 14:00:00+00</td>\n",
              "      <td>1120</td>\n",
              "      <td>84</td>\n",
              "      <td>7.50</td>\n",
              "      <td>NaN</td>\n",
              "    </tr>\n",
              "    <tr>\n",
              "      <th>2</th>\n",
              "      <td>3</td>\n",
              "      <td>2020/03/25 14:00:00+00</td>\n",
              "      <td>3340</td>\n",
              "      <td>401</td>\n",
              "      <td>12.01</td>\n",
              "      <td>NaN</td>\n",
              "    </tr>\n",
              "    <tr>\n",
              "      <th>3</th>\n",
              "      <td>4</td>\n",
              "      <td>2020/03/26 14:00:00+00</td>\n",
              "      <td>1820</td>\n",
              "      <td>206</td>\n",
              "      <td>11.32</td>\n",
              "      <td>NaN</td>\n",
              "    </tr>\n",
              "    <tr>\n",
              "      <th>4</th>\n",
              "      <td>5</td>\n",
              "      <td>2020/03/27 14:00:00+00</td>\n",
              "      <td>3075</td>\n",
              "      <td>348</td>\n",
              "      <td>11.32</td>\n",
              "      <td>NaN</td>\n",
              "    </tr>\n",
              "  </tbody>\n",
              "</table>\n",
              "</div>"
            ],
            "text/plain": [
              "   OBJECTID                    date  ...  percent_positive  rolling_avg\n",
              "0         1  2020/03/23 14:00:00+00  ...              8.06          NaN\n",
              "1         2  2020/03/24 14:00:00+00  ...              7.50          NaN\n",
              "2         3  2020/03/25 14:00:00+00  ...             12.01          NaN\n",
              "3         4  2020/03/26 14:00:00+00  ...             11.32          NaN\n",
              "4         5  2020/03/27 14:00:00+00  ...             11.32          NaN\n",
              "\n",
              "[5 rows x 6 columns]"
            ]
          },
          "metadata": {
            "tags": []
          },
          "execution_count": 319
        }
      ]
    },
    {
      "cell_type": "code",
      "metadata": {
        "colab": {
          "base_uri": "https://localhost:8080/",
          "height": 188
        },
        "id": "yJXIbH5v2ivx",
        "outputId": "22d024b5-563b-4c0b-d5cd-919abb50adb2"
      },
      "source": [
        "# Preview Testing Data\n",
        "df_testing_date.tail()"
      ],
      "execution_count": 320,
      "outputs": [
        {
          "output_type": "execute_result",
          "data": {
            "text/html": [
              "<div>\n",
              "<style scoped>\n",
              "    .dataframe tbody tr th:only-of-type {\n",
              "        vertical-align: middle;\n",
              "    }\n",
              "\n",
              "    .dataframe tbody tr th {\n",
              "        vertical-align: top;\n",
              "    }\n",
              "\n",
              "    .dataframe thead th {\n",
              "        text-align: right;\n",
              "    }\n",
              "</style>\n",
              "<table border=\"1\" class=\"dataframe\">\n",
              "  <thead>\n",
              "    <tr style=\"text-align: right;\">\n",
              "      <th></th>\n",
              "      <th>OBJECTID</th>\n",
              "      <th>date</th>\n",
              "      <th>number_of_tests</th>\n",
              "      <th>number_of_positives</th>\n",
              "      <th>percent_positive</th>\n",
              "      <th>rolling_avg</th>\n",
              "    </tr>\n",
              "  </thead>\n",
              "  <tbody>\n",
              "    <tr>\n",
              "      <th>250</th>\n",
              "      <td>251</td>\n",
              "      <td>2020/11/28 15:00:00+00</td>\n",
              "      <td>39249</td>\n",
              "      <td>2363</td>\n",
              "      <td>6.02</td>\n",
              "      <td>6.53</td>\n",
              "    </tr>\n",
              "    <tr>\n",
              "      <th>251</th>\n",
              "      <td>252</td>\n",
              "      <td>2020/11/29 15:00:00+00</td>\n",
              "      <td>27350</td>\n",
              "      <td>2367</td>\n",
              "      <td>8.65</td>\n",
              "      <td>6.86</td>\n",
              "    </tr>\n",
              "    <tr>\n",
              "      <th>252</th>\n",
              "      <td>253</td>\n",
              "      <td>2020/11/30 15:00:00+00</td>\n",
              "      <td>30697</td>\n",
              "      <td>3079</td>\n",
              "      <td>10.03</td>\n",
              "      <td>7.33</td>\n",
              "    </tr>\n",
              "    <tr>\n",
              "      <th>253</th>\n",
              "      <td>254</td>\n",
              "      <td>2020/12/01 15:00:00+00</td>\n",
              "      <td>35710</td>\n",
              "      <td>2887</td>\n",
              "      <td>8.08</td>\n",
              "      <td>7.51</td>\n",
              "    </tr>\n",
              "    <tr>\n",
              "      <th>254</th>\n",
              "      <td>255</td>\n",
              "      <td>2020/12/02 15:00:00+00</td>\n",
              "      <td>31150</td>\n",
              "      <td>2505</td>\n",
              "      <td>8.04</td>\n",
              "      <td>7.68</td>\n",
              "    </tr>\n",
              "  </tbody>\n",
              "</table>\n",
              "</div>"
            ],
            "text/plain": [
              "     OBJECTID                    date  ...  percent_positive  rolling_avg\n",
              "250       251  2020/11/28 15:00:00+00  ...              6.02         6.53\n",
              "251       252  2020/11/29 15:00:00+00  ...              8.65         6.86\n",
              "252       253  2020/11/30 15:00:00+00  ...             10.03         7.33\n",
              "253       254  2020/12/01 15:00:00+00  ...              8.08         7.51\n",
              "254       255  2020/12/02 15:00:00+00  ...              8.04         7.68\n",
              "\n",
              "[5 rows x 6 columns]"
            ]
          },
          "metadata": {
            "tags": []
          },
          "execution_count": 320
        }
      ]
    },
    {
      "cell_type": "markdown",
      "metadata": {
        "id": "_i53SzvizPAU"
      },
      "source": [
        "# Standardize Data and Rename Columns"
      ]
    },
    {
      "cell_type": "markdown",
      "metadata": {
        "id": "wuJaRZ3E3Gia"
      },
      "source": [
        "### After previewing the data, we see that 3/26/2020 is the earliest inclusive date and 12/02/2020 is the latest inclusive date. We must drop columns that do not include data between these dates."
      ]
    },
    {
      "cell_type": "code",
      "metadata": {
        "id": "P1Yx5M-U2ArH"
      },
      "source": [
        "# Drop 3/23/2020 - 3/25/2020 from testing dataset \n",
        "df_testing_date = df_testing_date.drop(df_testing_date.index[0:3])"
      ],
      "execution_count": 321,
      "outputs": []
    },
    {
      "cell_type": "code",
      "metadata": {
        "id": "U4k48M8p5LTe"
      },
      "source": [
        "# Drop 3/18/2020 - 3/25/2020 from deaths dataset \n",
        "df_deaths_date = df_deaths_date.drop(df_deaths_date.index[0:8])"
      ],
      "execution_count": 322,
      "outputs": []
    },
    {
      "cell_type": "code",
      "metadata": {
        "id": "J047CxaV8GyM"
      },
      "source": [
        "# Drop 12/03/2020 from deaths dataset\n",
        "df_deaths_date = df_deaths_date.drop(df_deaths_date.index[-1])"
      ],
      "execution_count": 323,
      "outputs": []
    },
    {
      "cell_type": "code",
      "metadata": {
        "id": "yyoo7gil8t6I"
      },
      "source": [
        "# Drop 12/03/2020 from hospitalizations dataset \n",
        "df_hospitalizations_date = df_hospitalizations_date.drop(df_hospitalizations_date.index[-1])"
      ],
      "execution_count": 324,
      "outputs": []
    },
    {
      "cell_type": "code",
      "metadata": {
        "id": "2p-hAHEt_sEc"
      },
      "source": [
        "# Rename \"date\" column in testing data to \"DATE\"\n",
        "\n",
        "df_testing_date=df_testing_date.rename(columns={\"date\":\"DATE\"})"
      ],
      "execution_count": 325,
      "outputs": []
    },
    {
      "cell_type": "code",
      "metadata": {
        "id": "Qf048fxjxOIq"
      },
      "source": [
        "# Rename \"Count_\" column in deaths data to \"number_of_deaths\"\n",
        "\n",
        "df_deaths_date=df_deaths_date.rename(columns={\"Count_\":\"number_of_deaths\"})"
      ],
      "execution_count": 326,
      "outputs": []
    },
    {
      "cell_type": "code",
      "metadata": {
        "id": "UyBjDI96xf4e"
      },
      "source": [
        "# Rename \"Total\" column in hospitalization data to \"number_of_hospitalizations\"\n",
        "\n",
        "df_hospitalizations_date=df_hospitalizations_date.rename(columns={\"Total\":\"number_of_hospitalizations\"})"
      ],
      "execution_count": 327,
      "outputs": []
    },
    {
      "cell_type": "markdown",
      "metadata": {
        "id": "9JTt13SMzJZZ"
      },
      "source": [
        "# Merge Datasets"
      ]
    },
    {
      "cell_type": "code",
      "metadata": {
        "id": "5jkqo2rn-qG8"
      },
      "source": [
        "df_merge1 = pd.merge(df_deaths_date,df_testing_date[[\"DATE\",\"number_of_tests\"]],how=\"left\",on=\"DATE\")"
      ],
      "execution_count": 328,
      "outputs": []
    },
    {
      "cell_type": "code",
      "metadata": {
        "id": "hYk1JO94y_A8"
      },
      "source": [
        "df_mergeFINAL = pd.merge(df_merge1,df_hospitalizations_date[[\"DATE\",\"number_of_hospitalizations\"]],how=\"left\",on=\"DATE\")"
      ],
      "execution_count": 329,
      "outputs": []
    },
    {
      "cell_type": "code",
      "metadata": {
        "colab": {
          "base_uri": "https://localhost:8080/",
          "height": 188
        },
        "id": "LEn-IVThzlY_",
        "outputId": "d1185080-7d6e-41b1-bb55-d4e311a02123"
      },
      "source": [
        "# Preview Merged Dataset\n",
        "\n",
        "df_mergeFINAL.head()"
      ],
      "execution_count": 330,
      "outputs": [
        {
          "output_type": "execute_result",
          "data": {
            "text/html": [
              "<div>\n",
              "<style scoped>\n",
              "    .dataframe tbody tr th:only-of-type {\n",
              "        vertical-align: middle;\n",
              "    }\n",
              "\n",
              "    .dataframe tbody tr th {\n",
              "        vertical-align: top;\n",
              "    }\n",
              "\n",
              "    .dataframe thead th {\n",
              "        text-align: right;\n",
              "    }\n",
              "</style>\n",
              "<table border=\"1\" class=\"dataframe\">\n",
              "  <thead>\n",
              "    <tr style=\"text-align: right;\">\n",
              "      <th></th>\n",
              "      <th>OBJECTID</th>\n",
              "      <th>DATE</th>\n",
              "      <th>number_of_deaths</th>\n",
              "      <th>number_of_tests</th>\n",
              "      <th>number_of_hospitalizations</th>\n",
              "    </tr>\n",
              "  </thead>\n",
              "  <tbody>\n",
              "    <tr>\n",
              "      <th>0</th>\n",
              "      <td>9</td>\n",
              "      <td>2020/03/26 14:00:00+00</td>\n",
              "      <td>2</td>\n",
              "      <td>1820</td>\n",
              "      <td>108.0</td>\n",
              "    </tr>\n",
              "    <tr>\n",
              "      <th>1</th>\n",
              "      <td>10</td>\n",
              "      <td>2020/03/27 14:00:00+00</td>\n",
              "      <td>3</td>\n",
              "      <td>3075</td>\n",
              "      <td>146.0</td>\n",
              "    </tr>\n",
              "    <tr>\n",
              "      <th>2</th>\n",
              "      <td>11</td>\n",
              "      <td>2020/03/28 14:00:00+00</td>\n",
              "      <td>7</td>\n",
              "      <td>1308</td>\n",
              "      <td>185.0</td>\n",
              "    </tr>\n",
              "    <tr>\n",
              "      <th>3</th>\n",
              "      <td>12</td>\n",
              "      <td>2020/03/29 14:00:00+00</td>\n",
              "      <td>6</td>\n",
              "      <td>1585</td>\n",
              "      <td>212.0</td>\n",
              "    </tr>\n",
              "    <tr>\n",
              "      <th>4</th>\n",
              "      <td>13</td>\n",
              "      <td>2020/03/30 14:00:00+00</td>\n",
              "      <td>11</td>\n",
              "      <td>2054</td>\n",
              "      <td>260.0</td>\n",
              "    </tr>\n",
              "  </tbody>\n",
              "</table>\n",
              "</div>"
            ],
            "text/plain": [
              "   OBJECTID  ... number_of_hospitalizations\n",
              "0         9  ...                      108.0\n",
              "1        10  ...                      146.0\n",
              "2        11  ...                      185.0\n",
              "3        12  ...                      212.0\n",
              "4        13  ...                      260.0\n",
              "\n",
              "[5 rows x 5 columns]"
            ]
          },
          "metadata": {
            "tags": []
          },
          "execution_count": 330
        }
      ]
    },
    {
      "cell_type": "code",
      "metadata": {
        "colab": {
          "base_uri": "https://localhost:8080/",
          "height": 188
        },
        "id": "5V-0urbizr1y",
        "outputId": "9738db04-b91a-4c57-bda7-c866978159a2"
      },
      "source": [
        "# Preview Merged Dataset\n",
        "\n",
        "df_mergeFINAL.tail()"
      ],
      "execution_count": 331,
      "outputs": [
        {
          "output_type": "execute_result",
          "data": {
            "text/html": [
              "<div>\n",
              "<style scoped>\n",
              "    .dataframe tbody tr th:only-of-type {\n",
              "        vertical-align: middle;\n",
              "    }\n",
              "\n",
              "    .dataframe tbody tr th {\n",
              "        vertical-align: top;\n",
              "    }\n",
              "\n",
              "    .dataframe thead th {\n",
              "        text-align: right;\n",
              "    }\n",
              "</style>\n",
              "<table border=\"1\" class=\"dataframe\">\n",
              "  <thead>\n",
              "    <tr style=\"text-align: right;\">\n",
              "      <th></th>\n",
              "      <th>OBJECTID</th>\n",
              "      <th>DATE</th>\n",
              "      <th>number_of_deaths</th>\n",
              "      <th>number_of_tests</th>\n",
              "      <th>number_of_hospitalizations</th>\n",
              "    </tr>\n",
              "  </thead>\n",
              "  <tbody>\n",
              "    <tr>\n",
              "      <th>247</th>\n",
              "      <td>256</td>\n",
              "      <td>2020/11/28 15:00:00+00</td>\n",
              "      <td>30</td>\n",
              "      <td>39249</td>\n",
              "      <td>1446.0</td>\n",
              "    </tr>\n",
              "    <tr>\n",
              "      <th>248</th>\n",
              "      <td>257</td>\n",
              "      <td>2020/11/29 15:00:00+00</td>\n",
              "      <td>20</td>\n",
              "      <td>27350</td>\n",
              "      <td>1461.0</td>\n",
              "    </tr>\n",
              "    <tr>\n",
              "      <th>249</th>\n",
              "      <td>258</td>\n",
              "      <td>2020/11/30 15:00:00+00</td>\n",
              "      <td>29</td>\n",
              "      <td>30697</td>\n",
              "      <td>1527.0</td>\n",
              "    </tr>\n",
              "    <tr>\n",
              "      <th>250</th>\n",
              "      <td>259</td>\n",
              "      <td>2020/12/01 15:00:00+00</td>\n",
              "      <td>35</td>\n",
              "      <td>35710</td>\n",
              "      <td>1583.0</td>\n",
              "    </tr>\n",
              "    <tr>\n",
              "      <th>251</th>\n",
              "      <td>260</td>\n",
              "      <td>2020/12/02 15:00:00+00</td>\n",
              "      <td>26</td>\n",
              "      <td>31150</td>\n",
              "      <td>1578.0</td>\n",
              "    </tr>\n",
              "  </tbody>\n",
              "</table>\n",
              "</div>"
            ],
            "text/plain": [
              "     OBJECTID  ... number_of_hospitalizations\n",
              "247       256  ...                     1446.0\n",
              "248       257  ...                     1461.0\n",
              "249       258  ...                     1527.0\n",
              "250       259  ...                     1583.0\n",
              "251       260  ...                     1578.0\n",
              "\n",
              "[5 rows x 5 columns]"
            ]
          },
          "metadata": {
            "tags": []
          },
          "execution_count": 331
        }
      ]
    },
    {
      "cell_type": "markdown",
      "metadata": {
        "id": "PEsU7GQJzxT4"
      },
      "source": [
        "# Rolling Averages"
      ]
    },
    {
      "cell_type": "code",
      "metadata": {
        "id": "fSe2lO_Hz0Bb"
      },
      "source": [
        "# Calculate moving averages for deaths, tests, and hospitalizations over 7 days\n",
        "\n",
        "df_mergeFINAL['SMA7_number_of_deaths']=df_mergeFINAL['number_of_deaths'].rolling(window=7).mean()\n",
        "df_mergeFINAL['SMA7_number_of_hospitalizations']=df_mergeFINAL['number_of_hospitalizations'].rolling(window=7).mean()\n",
        "df_mergeFINAL['SMA7_number_of_tests']=df_mergeFINAL['number_of_tests'].rolling(window=7).mean()"
      ],
      "execution_count": 332,
      "outputs": []
    },
    {
      "cell_type": "code",
      "metadata": {
        "colab": {
          "base_uri": "https://localhost:8080/",
          "height": 928
        },
        "id": "XIoZVqTx4De4",
        "outputId": "ef1b2514-f181-492a-ef92-a19c42a87419"
      },
      "source": [
        "# Preview Data\n",
        "\n",
        "df_mergeFINAL.head(20)"
      ],
      "execution_count": 333,
      "outputs": [
        {
          "output_type": "execute_result",
          "data": {
            "text/html": [
              "<div>\n",
              "<style scoped>\n",
              "    .dataframe tbody tr th:only-of-type {\n",
              "        vertical-align: middle;\n",
              "    }\n",
              "\n",
              "    .dataframe tbody tr th {\n",
              "        vertical-align: top;\n",
              "    }\n",
              "\n",
              "    .dataframe thead th {\n",
              "        text-align: right;\n",
              "    }\n",
              "</style>\n",
              "<table border=\"1\" class=\"dataframe\">\n",
              "  <thead>\n",
              "    <tr style=\"text-align: right;\">\n",
              "      <th></th>\n",
              "      <th>OBJECTID</th>\n",
              "      <th>DATE</th>\n",
              "      <th>number_of_deaths</th>\n",
              "      <th>number_of_tests</th>\n",
              "      <th>number_of_hospitalizations</th>\n",
              "      <th>SMA7_number_of_deaths</th>\n",
              "      <th>SMA7_number_of_hospitalizations</th>\n",
              "      <th>SMA7_number_of_tests</th>\n",
              "    </tr>\n",
              "  </thead>\n",
              "  <tbody>\n",
              "    <tr>\n",
              "      <th>0</th>\n",
              "      <td>9</td>\n",
              "      <td>2020/03/26 14:00:00+00</td>\n",
              "      <td>2</td>\n",
              "      <td>1820</td>\n",
              "      <td>108.0</td>\n",
              "      <td>NaN</td>\n",
              "      <td>NaN</td>\n",
              "      <td>NaN</td>\n",
              "    </tr>\n",
              "    <tr>\n",
              "      <th>1</th>\n",
              "      <td>10</td>\n",
              "      <td>2020/03/27 14:00:00+00</td>\n",
              "      <td>3</td>\n",
              "      <td>3075</td>\n",
              "      <td>146.0</td>\n",
              "      <td>NaN</td>\n",
              "      <td>NaN</td>\n",
              "      <td>NaN</td>\n",
              "    </tr>\n",
              "    <tr>\n",
              "      <th>2</th>\n",
              "      <td>11</td>\n",
              "      <td>2020/03/28 14:00:00+00</td>\n",
              "      <td>7</td>\n",
              "      <td>1308</td>\n",
              "      <td>185.0</td>\n",
              "      <td>NaN</td>\n",
              "      <td>NaN</td>\n",
              "      <td>NaN</td>\n",
              "    </tr>\n",
              "    <tr>\n",
              "      <th>3</th>\n",
              "      <td>12</td>\n",
              "      <td>2020/03/29 14:00:00+00</td>\n",
              "      <td>6</td>\n",
              "      <td>1585</td>\n",
              "      <td>212.0</td>\n",
              "      <td>NaN</td>\n",
              "      <td>NaN</td>\n",
              "      <td>NaN</td>\n",
              "    </tr>\n",
              "    <tr>\n",
              "      <th>4</th>\n",
              "      <td>13</td>\n",
              "      <td>2020/03/30 14:00:00+00</td>\n",
              "      <td>11</td>\n",
              "      <td>2054</td>\n",
              "      <td>260.0</td>\n",
              "      <td>NaN</td>\n",
              "      <td>NaN</td>\n",
              "      <td>NaN</td>\n",
              "    </tr>\n",
              "    <tr>\n",
              "      <th>5</th>\n",
              "      <td>14</td>\n",
              "      <td>2020/03/31 14:00:00+00</td>\n",
              "      <td>8</td>\n",
              "      <td>2947</td>\n",
              "      <td>308.0</td>\n",
              "      <td>NaN</td>\n",
              "      <td>NaN</td>\n",
              "      <td>NaN</td>\n",
              "    </tr>\n",
              "    <tr>\n",
              "      <th>6</th>\n",
              "      <td>15</td>\n",
              "      <td>2020/04/01 14:00:00+00</td>\n",
              "      <td>8</td>\n",
              "      <td>2538</td>\n",
              "      <td>402.0</td>\n",
              "      <td>6.428571</td>\n",
              "      <td>231.571429</td>\n",
              "      <td>2189.571429</td>\n",
              "    </tr>\n",
              "    <tr>\n",
              "      <th>7</th>\n",
              "      <td>16</td>\n",
              "      <td>2020/04/02 14:00:00+00</td>\n",
              "      <td>10</td>\n",
              "      <td>3034</td>\n",
              "      <td>NaN</td>\n",
              "      <td>7.571429</td>\n",
              "      <td>NaN</td>\n",
              "      <td>2363.000000</td>\n",
              "    </tr>\n",
              "    <tr>\n",
              "      <th>8</th>\n",
              "      <td>17</td>\n",
              "      <td>2020/04/03 14:00:00+00</td>\n",
              "      <td>19</td>\n",
              "      <td>2629</td>\n",
              "      <td>447.0</td>\n",
              "      <td>9.857143</td>\n",
              "      <td>NaN</td>\n",
              "      <td>2299.285714</td>\n",
              "    </tr>\n",
              "    <tr>\n",
              "      <th>9</th>\n",
              "      <td>18</td>\n",
              "      <td>2020/04/04 14:00:00+00</td>\n",
              "      <td>16</td>\n",
              "      <td>3401</td>\n",
              "      <td>605.0</td>\n",
              "      <td>11.142857</td>\n",
              "      <td>NaN</td>\n",
              "      <td>2598.285714</td>\n",
              "    </tr>\n",
              "    <tr>\n",
              "      <th>10</th>\n",
              "      <td>19</td>\n",
              "      <td>2020/04/05 14:00:00+00</td>\n",
              "      <td>21</td>\n",
              "      <td>2633</td>\n",
              "      <td>559.0</td>\n",
              "      <td>13.285714</td>\n",
              "      <td>NaN</td>\n",
              "      <td>2748.000000</td>\n",
              "    </tr>\n",
              "    <tr>\n",
              "      <th>11</th>\n",
              "      <td>20</td>\n",
              "      <td>2020/04/06 14:00:00+00</td>\n",
              "      <td>16</td>\n",
              "      <td>1404</td>\n",
              "      <td>770.0</td>\n",
              "      <td>14.000000</td>\n",
              "      <td>NaN</td>\n",
              "      <td>2655.142857</td>\n",
              "    </tr>\n",
              "    <tr>\n",
              "      <th>12</th>\n",
              "      <td>21</td>\n",
              "      <td>2020/04/07 14:00:00+00</td>\n",
              "      <td>21</td>\n",
              "      <td>7936</td>\n",
              "      <td>801.0</td>\n",
              "      <td>15.857143</td>\n",
              "      <td>NaN</td>\n",
              "      <td>3367.857143</td>\n",
              "    </tr>\n",
              "    <tr>\n",
              "      <th>13</th>\n",
              "      <td>22</td>\n",
              "      <td>2020/04/08 14:00:00+00</td>\n",
              "      <td>29</td>\n",
              "      <td>3155</td>\n",
              "      <td>848.0</td>\n",
              "      <td>18.857143</td>\n",
              "      <td>NaN</td>\n",
              "      <td>3456.000000</td>\n",
              "    </tr>\n",
              "    <tr>\n",
              "      <th>14</th>\n",
              "      <td>23</td>\n",
              "      <td>2020/04/09 14:00:00+00</td>\n",
              "      <td>29</td>\n",
              "      <td>3927</td>\n",
              "      <td>924.0</td>\n",
              "      <td>21.571429</td>\n",
              "      <td>707.714286</td>\n",
              "      <td>3583.571429</td>\n",
              "    </tr>\n",
              "    <tr>\n",
              "      <th>15</th>\n",
              "      <td>24</td>\n",
              "      <td>2020/04/10 14:00:00+00</td>\n",
              "      <td>34</td>\n",
              "      <td>3628</td>\n",
              "      <td>918.0</td>\n",
              "      <td>23.714286</td>\n",
              "      <td>775.000000</td>\n",
              "      <td>3726.285714</td>\n",
              "    </tr>\n",
              "    <tr>\n",
              "      <th>16</th>\n",
              "      <td>25</td>\n",
              "      <td>2020/04/11 14:00:00+00</td>\n",
              "      <td>42</td>\n",
              "      <td>2176</td>\n",
              "      <td>1020.0</td>\n",
              "      <td>27.428571</td>\n",
              "      <td>834.285714</td>\n",
              "      <td>3551.285714</td>\n",
              "    </tr>\n",
              "    <tr>\n",
              "      <th>17</th>\n",
              "      <td>26</td>\n",
              "      <td>2020/04/12 14:00:00+00</td>\n",
              "      <td>31</td>\n",
              "      <td>3805</td>\n",
              "      <td>1019.0</td>\n",
              "      <td>28.857143</td>\n",
              "      <td>900.000000</td>\n",
              "      <td>3718.714286</td>\n",
              "    </tr>\n",
              "    <tr>\n",
              "      <th>18</th>\n",
              "      <td>27</td>\n",
              "      <td>2020/04/13 14:00:00+00</td>\n",
              "      <td>43</td>\n",
              "      <td>1585</td>\n",
              "      <td>1071.0</td>\n",
              "      <td>32.714286</td>\n",
              "      <td>943.000000</td>\n",
              "      <td>3744.571429</td>\n",
              "    </tr>\n",
              "    <tr>\n",
              "      <th>19</th>\n",
              "      <td>28</td>\n",
              "      <td>2020/04/14 14:00:00+00</td>\n",
              "      <td>36</td>\n",
              "      <td>2410</td>\n",
              "      <td>1079.0</td>\n",
              "      <td>34.857143</td>\n",
              "      <td>982.714286</td>\n",
              "      <td>2955.142857</td>\n",
              "    </tr>\n",
              "  </tbody>\n",
              "</table>\n",
              "</div>"
            ],
            "text/plain": [
              "    OBJECTID  ... SMA7_number_of_tests\n",
              "0          9  ...                  NaN\n",
              "1         10  ...                  NaN\n",
              "2         11  ...                  NaN\n",
              "3         12  ...                  NaN\n",
              "4         13  ...                  NaN\n",
              "5         14  ...                  NaN\n",
              "6         15  ...          2189.571429\n",
              "7         16  ...          2363.000000\n",
              "8         17  ...          2299.285714\n",
              "9         18  ...          2598.285714\n",
              "10        19  ...          2748.000000\n",
              "11        20  ...          2655.142857\n",
              "12        21  ...          3367.857143\n",
              "13        22  ...          3456.000000\n",
              "14        23  ...          3583.571429\n",
              "15        24  ...          3726.285714\n",
              "16        25  ...          3551.285714\n",
              "17        26  ...          3718.714286\n",
              "18        27  ...          3744.571429\n",
              "19        28  ...          2955.142857\n",
              "\n",
              "[20 rows x 8 columns]"
            ]
          },
          "metadata": {
            "tags": []
          },
          "execution_count": 333
        }
      ]
    },
    {
      "cell_type": "markdown",
      "metadata": {
        "id": "Svto6kr_4rZg"
      },
      "source": [
        "# Plot SMAs"
      ]
    },
    {
      "cell_type": "code",
      "metadata": {
        "id": "bXDp9T0vCdKE"
      },
      "source": [
        "# Remove timestamps from DATE column\n",
        "\n",
        "df_mergeFINAL['DATE'] = df_mergeFINAL['DATE'].str.rstrip('14:00:00+00')\n",
        "df_mergeFINAL['DATE'] = df_mergeFINAL['DATE'].str.rstrip('15:00:00+00')"
      ],
      "execution_count": 334,
      "outputs": []
    },
    {
      "cell_type": "code",
      "metadata": {
        "colab": {
          "base_uri": "https://localhost:8080/",
          "height": 542
        },
        "id": "AvaYqqVH4tcm",
        "outputId": "79034594-44ac-4f84-da44-b1bf6d7513b8"
      },
      "source": [
        "line_SMA_deaths = px.line(df_mergeFINAL,\n",
        "                   x = 'DATE',\n",
        "                   y='SMA7_number_of_deaths',\n",
        "                   title='Weekly Simple Moving Average Deaths vs. Time')\n",
        "\n",
        "line_SMA_tests =px.line(df_mergeFINAL,\n",
        "                  x='DATE',\n",
        "                  y='SMA7_number_of_tests',\n",
        "                  title='Weekly Simple Moving Average Tests vs. Time')\n",
        "\n",
        "line_SMA_hospitalizations =px.line(df_mergeFINAL,\n",
        "                  x='DATE',\n",
        "                  y='SMA7_number_of_hospitalizations',\n",
        "                  title='Weekly Simple Moving Average Hospitalizations vs. Time')\n",
        "\n",
        "line_SMA_deaths.show()"
      ],
      "execution_count": 336,
      "outputs": [
        {
          "output_type": "display_data",
          "data": {
            "text/html": [
              "<html>\n",
              "<head><meta charset=\"utf-8\" /></head>\n",
              "<body>\n",
              "    <div>\n",
              "            <script src=\"https://cdnjs.cloudflare.com/ajax/libs/mathjax/2.7.5/MathJax.js?config=TeX-AMS-MML_SVG\"></script><script type=\"text/javascript\">if (window.MathJax) {MathJax.Hub.Config({SVG: {font: \"STIX-Web\"}});}</script>\n",
              "                <script type=\"text/javascript\">window.PlotlyConfig = {MathJaxConfig: 'local'};</script>\n",
              "        <script src=\"https://cdn.plot.ly/plotly-latest.min.js\"></script>    \n",
              "            <div id=\"18fd45d0-5653-4f9e-911c-431ea8c4c500\" class=\"plotly-graph-div\" style=\"height:525px; width:100%;\"></div>\n",
              "            <script type=\"text/javascript\">\n",
              "                \n",
              "                    window.PLOTLYENV=window.PLOTLYENV || {};\n",
              "                    \n",
              "                if (document.getElementById(\"18fd45d0-5653-4f9e-911c-431ea8c4c500\")) {\n",
              "                    Plotly.newPlot(\n",
              "                        '18fd45d0-5653-4f9e-911c-431ea8c4c500',\n",
              "                        [{\"hoverlabel\": {\"namelength\": 0}, \"hovertemplate\": \"DATE=%{x}<br>SMA7_number_of_deaths=%{y}\", \"legendgroup\": \"\", \"line\": {\"color\": \"#636efa\", \"dash\": \"solid\"}, \"mode\": \"lines\", \"name\": \"\", \"showlegend\": false, \"type\": \"scatter\", \"x\": [\"2020/03/26 \", \"2020/03/27 \", \"2020/03/28 \", \"2020/03/29 \", \"2020/03/30 \", \"2020/03/31 \", \"2020/04/01 \", \"2020/04/02 \", \"2020/04/03 \", \"2020/04/04 \", \"2020/04/05 \", \"2020/04/06 \", \"2020/04/07 \", \"2020/04/08 \", \"2020/04/09 \", \"2020/04/10 \", \"2020/04/11 \", \"2020/04/12 \", \"2020/04/13 \", \"2020/04/14 \", \"2020/04/15 \", \"2020/04/16 \", \"2020/04/17 \", \"2020/04/18 \", \"2020/04/19 \", \"2020/04/20 \", \"2020/04/21 \", \"2020/04/22 \", \"2020/04/23 \", \"2020/04/24 \", \"2020/04/25 \", \"2020/04/26 \", \"2020/04/27 \", \"2020/04/28 \", \"2020/04/29 \", \"2020/04/30 \", \"2020/05/01 \", \"2020/05/02 \", \"2020/05/03 \", \"2020/05/04 \", \"2020/05/05 \", \"2020/05/06 \", \"2020/05/07 \", \"2020/05/08 \", \"2020/05/09 \", \"2020/05/10 \", \"2020/05/11 \", \"2020/05/12 \", \"2020/05/13 \", \"2020/05/14 \", \"2020/05/15 \", \"2020/05/16 \", \"2020/05/17 \", \"2020/05/18 \", \"2020/05/19 \", \"2020/05/20 \", \"2020/05/21 \", \"2020/05/22 \", \"2020/05/23 \", \"2020/05/24 \", \"2020/05/25 \", \"2020/05/26 \", \"2020/05/27 \", \"2020/05/28 \", \"2020/05/29 \", \"2020/05/30 \", \"2020/05/31 \", \"2020/06/01 \", \"2020/06/02 \", \"2020/06/03 \", \"2020/06/04 \", \"2020/06/05 \", \"2020/06/06 \", \"2020/06/07 \", \"2020/06/08 \", \"2020/06/09 \", \"2020/06/10 \", \"2020/06/11 \", \"2020/06/12 \", \"2020/06/13 \", \"2020/06/14 \", \"2020/06/15 \", \"2020/06/16 \", \"2020/06/17 \", \"2020/06/18 \", \"2020/06/19 \", \"2020/06/20 \", \"2020/06/21 \", \"2020/06/22 \", \"2020/06/23 \", \"2020/06/24 \", \"2020/06/25 \", \"2020/06/26 \", \"2020/06/27 \", \"2020/06/28 \", \"2020/06/29 \", \"2020/06/30 \", \"2020/07/01 \", \"2020/07/02 \", \"2020/07/03 \", \"2020/07/04 \", \"2020/07/05 \", \"2020/07/06 \", \"2020/07/07 \", \"2020/07/08 \", \"2020/07/09 \", \"2020/07/10 \", \"2020/07/11 \", \"2020/07/12 \", \"2020/07/13 \", \"2020/07/14 \", \"2020/07/15 \", \"2020/07/16 \", \"2020/07/17 \", \"2020/07/18 \", \"2020/07/19 \", \"2020/07/20 \", \"2020/07/21 \", \"2020/07/22 \", \"2020/07/23 \", \"2020/07/24 \", \"2020/07/25 \", \"2020/07/26 \", \"2020/07/27 \", \"2020/07/28 \", \"2020/07/29 \", \"2020/07/30 \", \"2020/07/31 \", \"2020/08/01 \", \"2020/08/02 \", \"2020/08/03 \", \"2020/08/04 \", \"2020/08/05 \", \"2020/08/06 \", \"2020/08/07 \", \"2020/08/08 \", \"2020/08/09 \", \"2020/08/10 \", \"2020/08/11 \", \"2020/08/12 \", \"2020/08/13 \", \"2020/08/14 \", \"2020/08/15 \", \"2020/08/16 \", \"2020/08/17 \", \"2020/08/18 \", \"2020/08/19 \", \"2020/08/20 \", \"2020/08/21 \", \"2020/08/22 \", \"2020/08/23 \", \"2020/08/24 \", \"2020/08/25 \", \"2020/08/26 \", \"2020/08/27 \", \"2020/08/28 \", \"2020/08/29 \", \"2020/08/30 \", \"2020/08/31 \", \"2020/09/01 \", \"2020/09/02 \", \"2020/09/03 \", \"2020/09/04 \", \"2020/09/05 \", \"2020/09/06 \", \"2020/09/07 \", \"2020/09/08 \", \"2020/09/09 \", \"2020/09/10 \", \"2020/09/11 \", \"2020/09/12 \", \"2020/09/13 \", \"2020/09/14 \", \"2020/09/15 \", \"2020/09/16 \", \"2020/09/17 \", \"2020/09/18 \", \"2020/09/19 \", \"2020/09/20 \", \"2020/09/21 \", \"2020/09/22 \", \"2020/09/23 \", \"2020/09/24 \", \"2020/09/25 \", \"2020/09/26 \", \"2020/09/27 \", \"2020/09/28 \", \"2020/09/29 \", \"2020/09/30 \", \"2020/10/01 \", \"2020/10/02 \", \"2020/10/03 \", \"2020/10/04 \", \"2020/10/05 \", \"2020/10/06 \", \"2020/10/07 \", \"2020/10/08 \", \"2020/10/09 \", \"2020/10/10 \", \"2020/10/11 \", \"2020/10/12 \", \"2020/10/13 \", \"2020/10/14 \", \"2020/10/15 \", \"2020/10/16 \", \"2020/10/17 \", \"2020/10/18 \", \"2020/10/19 \", \"2020/10/20 \", \"2020/10/21 \", \"2020/10/22 \", \"2020/10/23 \", \"2020/10/24 \", \"2020/10/25 \", \"2020/10/26 \", \"2020/10/27 \", \"2020/10/28 \", \"2020/10/29 \", \"2020/10/30 \", \"2020/10/31 \", \"2020/11/01 \", \"2020/11/02 \", \"2020/11/03 \", \"2020/11/04 \", \"2020/11/05 \", \"2020/11/06 \", \"2020/11/07 \", \"2020/11/08 \", \"2020/11/09 \", \"2020/11/10 \", \"2020/11/11 \", \"2020/11/12 \", \"2020/11/13 \", \"2020/11/14 \", \"2020/11/15 \", \"2020/11/16 \", \"2020/11/17 \", \"2020/11/18 \", \"2020/11/19 \", \"2020/11/20 \", \"2020/11/21 \", \"2020/11/22 \", \"2020/11/23 \", \"2020/11/24 \", \"2020/11/25 \", \"2020/11/26 \", \"2020/11/27 \", \"2020/11/28 \", \"2020/11/29 \", \"2020/11/30 \", \"2020/12/01 \", \"2020/12/02 \"], \"xaxis\": \"x\", \"y\": [null, null, null, null, null, null, 6.428571428571429, 7.571428571428571, 9.857142857142858, 11.142857142857142, 13.285714285714286, 14.0, 15.857142857142858, 18.857142857142858, 21.571428571428573, 23.714285714285715, 27.428571428571427, 28.857142857142858, 32.714285714285715, 34.857142857142854, 37.285714285714285, 37.42857142857143, 38.42857142857143, 38.0, 39.714285714285715, 40.857142857142854, 42.57142857142857, 42.57142857142857, 45.714285714285715, 49.0, 50.285714285714285, 51.42857142857143, 50.0, 50.714285714285715, 53.857142857142854, 54.57142857142857, 52.142857142857146, 51.57142857142857, 50.57142857142857, 52.0, 51.42857142857143, 47.57142857142857, 47.42857142857143, 49.42857142857143, 50.0, 49.857142857142854, 49.142857142857146, 48.57142857142857, 49.285714285714285, 48.857142857142854, 48.142857142857146, 47.857142857142854, 48.57142857142857, 46.857142857142854, 46.285714285714285, 44.285714285714285, 40.0, 40.0, 37.57142857142857, 35.285714285714285, 35.857142857142854, 35.142857142857146, 36.57142857142857, 39.57142857142857, 36.857142857142854, 36.285714285714285, 36.42857142857143, 35.285714285714285, 33.57142857142857, 32.857142857142854, 31.285714285714285, 30.285714285714285, 30.142857142857142, 29.285714285714285, 28.0, 28.142857142857142, 27.285714285714285, 25.857142857142858, 24.714285714285715, 23.571428571428573, 22.0, 22.285714285714285, 20.571428571428573, 19.285714285714285, 17.285714285714285, 17.0, 17.714285714285715, 17.285714285714285, 16.285714285714285, 16.428571428571427, 15.571428571428571, 15.857142857142858, 15.0, 14.714285714285714, 13.714285714285714, 13.571428571428571, 13.428571428571429, 13.142857142857142, 12.571428571428571, 13.0, 11.428571428571429, 11.428571428571429, 11.285714285714286, 11.0, 9.857142857142858, 10.285714285714286, 8.857142857142858, 9.285714285714286, 9.428571428571429, 8.285714285714286, 7.0, 7.571428571428571, 7.857142857142857, 8.0, 7.857142857142857, 8.428571428571429, 8.571428571428571, 9.714285714285714, 8.857142857142858, 8.428571428571429, 8.714285714285714, 8.428571428571429, 7.857142857142857, 8.285714285714286, 8.571428571428571, 9.428571428571429, 9.285714285714286, 8.857142857142858, 9.428571428571429, 9.571428571428571, 9.571428571428571, 9.142857142857142, 9.0, 9.142857142857142, 9.857142857142858, 9.285714285714286, 8.714285714285714, 8.857142857142858, 8.428571428571429, 8.857142857142858, 8.857142857142858, 8.0, 8.0, 7.857142857142857, 7.428571428571429, 7.571428571428571, 6.571428571428571, 6.142857142857143, 7.142857142857143, 7.571428571428571, 8.0, 6.857142857142857, 7.285714285714286, 7.857142857142857, 8.428571428571429, 8.142857142857142, 7.428571428571429, 7.571428571428571, 8.0, 7.428571428571429, 7.142857142857143, 7.714285714285714, 6.714285714285714, 6.857142857142857, 6.142857142857143, 6.285714285714286, 5.714285714285714, 5.857142857142857, 5.285714285714286, 5.285714285714286, 4.714285714285714, 4.857142857142857, 5.571428571428571, 6.571428571428571, 6.142857142857143, 5.428571428571429, 5.857142857142857, 6.285714285714286, 6.857142857142857, 6.285714285714286, 5.571428571428571, 6.428571428571429, 6.142857142857143, 6.142857142857143, 6.285714285714286, 5.857142857142857, 6.142857142857143, 5.857142857142857, 4.428571428571429, 5.0, 5.0, 4.428571428571429, 4.571428571428571, 4.571428571428571, 5.285714285714286, 6.571428571428571, 6.428571428571429, 6.571428571428571, 6.714285714285714, 6.857142857142857, 6.285714285714286, 6.714285714285714, 6.0, 5.857142857142857, 5.571428571428571, 5.428571428571429, 5.571428571428571, 5.857142857142857, 6.142857142857143, 6.428571428571429, 7.142857142857143, 7.285714285714286, 7.714285714285714, 7.571428571428571, 7.285714285714286, 6.428571428571429, 6.714285714285714, 6.857142857142857, 6.857142857142857, 7.142857142857143, 7.0, 7.285714285714286, 8.285714285714286, 8.428571428571429, 8.714285714285714, 9.0, 9.714285714285714, 10.142857142857142, 11.142857142857142, 11.285714285714286, 11.428571428571429, 11.714285714285714, 12.714285714285714, 12.571428571428571, 13.857142857142858, 14.428571428571429, 15.142857142857142, 16.714285714285715, 16.857142857142858, 16.857142857142858, 19.428571428571427, 19.714285714285715, 21.428571428571427, 22.714285714285715, 24.285714285714285, 25.714285714285715, 27.571428571428573, 27.571428571428573, 27.714285714285715, 27.857142857142858, 28.857142857142858, 27.857142857142858], \"yaxis\": \"y\"}],\n",
              "                        {\"legend\": {\"tracegroupgap\": 0}, \"template\": {\"data\": {\"bar\": [{\"error_x\": {\"color\": \"#2a3f5f\"}, \"error_y\": {\"color\": \"#2a3f5f\"}, \"marker\": {\"line\": {\"color\": \"#E5ECF6\", \"width\": 0.5}}, \"type\": \"bar\"}], \"barpolar\": [{\"marker\": {\"line\": {\"color\": \"#E5ECF6\", \"width\": 0.5}}, \"type\": \"barpolar\"}], \"carpet\": [{\"aaxis\": {\"endlinecolor\": \"#2a3f5f\", \"gridcolor\": \"white\", \"linecolor\": \"white\", \"minorgridcolor\": \"white\", \"startlinecolor\": \"#2a3f5f\"}, \"baxis\": {\"endlinecolor\": \"#2a3f5f\", \"gridcolor\": \"white\", \"linecolor\": \"white\", \"minorgridcolor\": \"white\", \"startlinecolor\": \"#2a3f5f\"}, \"type\": \"carpet\"}], \"choropleth\": [{\"colorbar\": {\"outlinewidth\": 0, \"ticks\": \"\"}, \"type\": \"choropleth\"}], \"contour\": [{\"colorbar\": {\"outlinewidth\": 0, \"ticks\": \"\"}, \"colorscale\": [[0.0, \"#0d0887\"], [0.1111111111111111, \"#46039f\"], [0.2222222222222222, \"#7201a8\"], [0.3333333333333333, \"#9c179e\"], [0.4444444444444444, \"#bd3786\"], [0.5555555555555556, \"#d8576b\"], [0.6666666666666666, \"#ed7953\"], [0.7777777777777778, \"#fb9f3a\"], [0.8888888888888888, \"#fdca26\"], [1.0, \"#f0f921\"]], \"type\": \"contour\"}], \"contourcarpet\": [{\"colorbar\": {\"outlinewidth\": 0, \"ticks\": \"\"}, \"type\": \"contourcarpet\"}], \"heatmap\": [{\"colorbar\": {\"outlinewidth\": 0, \"ticks\": \"\"}, \"colorscale\": [[0.0, \"#0d0887\"], [0.1111111111111111, \"#46039f\"], [0.2222222222222222, \"#7201a8\"], [0.3333333333333333, \"#9c179e\"], [0.4444444444444444, \"#bd3786\"], [0.5555555555555556, \"#d8576b\"], [0.6666666666666666, \"#ed7953\"], [0.7777777777777778, \"#fb9f3a\"], [0.8888888888888888, \"#fdca26\"], [1.0, \"#f0f921\"]], \"type\": \"heatmap\"}], \"heatmapgl\": [{\"colorbar\": {\"outlinewidth\": 0, \"ticks\": \"\"}, \"colorscale\": [[0.0, \"#0d0887\"], [0.1111111111111111, \"#46039f\"], [0.2222222222222222, \"#7201a8\"], [0.3333333333333333, \"#9c179e\"], [0.4444444444444444, \"#bd3786\"], [0.5555555555555556, \"#d8576b\"], [0.6666666666666666, \"#ed7953\"], [0.7777777777777778, \"#fb9f3a\"], [0.8888888888888888, \"#fdca26\"], [1.0, \"#f0f921\"]], \"type\": \"heatmapgl\"}], \"histogram\": [{\"marker\": {\"colorbar\": {\"outlinewidth\": 0, \"ticks\": \"\"}}, \"type\": \"histogram\"}], \"histogram2d\": [{\"colorbar\": {\"outlinewidth\": 0, \"ticks\": \"\"}, \"colorscale\": [[0.0, \"#0d0887\"], [0.1111111111111111, \"#46039f\"], [0.2222222222222222, \"#7201a8\"], [0.3333333333333333, \"#9c179e\"], [0.4444444444444444, \"#bd3786\"], [0.5555555555555556, \"#d8576b\"], [0.6666666666666666, \"#ed7953\"], [0.7777777777777778, \"#fb9f3a\"], [0.8888888888888888, \"#fdca26\"], [1.0, \"#f0f921\"]], \"type\": \"histogram2d\"}], \"histogram2dcontour\": [{\"colorbar\": {\"outlinewidth\": 0, \"ticks\": \"\"}, \"colorscale\": [[0.0, \"#0d0887\"], [0.1111111111111111, \"#46039f\"], [0.2222222222222222, \"#7201a8\"], [0.3333333333333333, \"#9c179e\"], [0.4444444444444444, \"#bd3786\"], [0.5555555555555556, \"#d8576b\"], [0.6666666666666666, \"#ed7953\"], [0.7777777777777778, \"#fb9f3a\"], [0.8888888888888888, \"#fdca26\"], [1.0, \"#f0f921\"]], \"type\": \"histogram2dcontour\"}], \"mesh3d\": [{\"colorbar\": {\"outlinewidth\": 0, \"ticks\": \"\"}, \"type\": \"mesh3d\"}], \"parcoords\": [{\"line\": {\"colorbar\": {\"outlinewidth\": 0, \"ticks\": \"\"}}, \"type\": \"parcoords\"}], \"pie\": [{\"automargin\": true, \"type\": \"pie\"}], \"scatter\": [{\"marker\": {\"colorbar\": {\"outlinewidth\": 0, \"ticks\": \"\"}}, \"type\": \"scatter\"}], \"scatter3d\": [{\"line\": {\"colorbar\": {\"outlinewidth\": 0, \"ticks\": \"\"}}, \"marker\": {\"colorbar\": {\"outlinewidth\": 0, \"ticks\": \"\"}}, \"type\": \"scatter3d\"}], \"scattercarpet\": [{\"marker\": {\"colorbar\": {\"outlinewidth\": 0, \"ticks\": \"\"}}, \"type\": \"scattercarpet\"}], \"scattergeo\": [{\"marker\": {\"colorbar\": {\"outlinewidth\": 0, \"ticks\": \"\"}}, \"type\": \"scattergeo\"}], \"scattergl\": [{\"marker\": {\"colorbar\": {\"outlinewidth\": 0, \"ticks\": \"\"}}, \"type\": \"scattergl\"}], \"scattermapbox\": [{\"marker\": {\"colorbar\": {\"outlinewidth\": 0, \"ticks\": \"\"}}, \"type\": \"scattermapbox\"}], \"scatterpolar\": [{\"marker\": {\"colorbar\": {\"outlinewidth\": 0, \"ticks\": \"\"}}, \"type\": \"scatterpolar\"}], \"scatterpolargl\": [{\"marker\": {\"colorbar\": {\"outlinewidth\": 0, \"ticks\": \"\"}}, \"type\": \"scatterpolargl\"}], \"scatterternary\": [{\"marker\": {\"colorbar\": {\"outlinewidth\": 0, \"ticks\": \"\"}}, \"type\": \"scatterternary\"}], \"surface\": [{\"colorbar\": {\"outlinewidth\": 0, \"ticks\": \"\"}, \"colorscale\": [[0.0, \"#0d0887\"], [0.1111111111111111, \"#46039f\"], [0.2222222222222222, \"#7201a8\"], [0.3333333333333333, \"#9c179e\"], [0.4444444444444444, \"#bd3786\"], [0.5555555555555556, \"#d8576b\"], [0.6666666666666666, \"#ed7953\"], [0.7777777777777778, \"#fb9f3a\"], [0.8888888888888888, \"#fdca26\"], [1.0, \"#f0f921\"]], \"type\": \"surface\"}], \"table\": [{\"cells\": {\"fill\": {\"color\": \"#EBF0F8\"}, \"line\": {\"color\": \"white\"}}, \"header\": {\"fill\": {\"color\": \"#C8D4E3\"}, \"line\": {\"color\": \"white\"}}, \"type\": \"table\"}]}, \"layout\": {\"annotationdefaults\": {\"arrowcolor\": \"#2a3f5f\", \"arrowhead\": 0, \"arrowwidth\": 1}, \"coloraxis\": {\"colorbar\": {\"outlinewidth\": 0, \"ticks\": \"\"}}, \"colorscale\": {\"diverging\": [[0, \"#8e0152\"], [0.1, \"#c51b7d\"], [0.2, \"#de77ae\"], [0.3, \"#f1b6da\"], [0.4, \"#fde0ef\"], [0.5, \"#f7f7f7\"], [0.6, \"#e6f5d0\"], [0.7, \"#b8e186\"], [0.8, \"#7fbc41\"], [0.9, \"#4d9221\"], [1, \"#276419\"]], \"sequential\": [[0.0, \"#0d0887\"], [0.1111111111111111, \"#46039f\"], [0.2222222222222222, \"#7201a8\"], [0.3333333333333333, \"#9c179e\"], [0.4444444444444444, \"#bd3786\"], [0.5555555555555556, \"#d8576b\"], [0.6666666666666666, \"#ed7953\"], [0.7777777777777778, \"#fb9f3a\"], [0.8888888888888888, \"#fdca26\"], [1.0, \"#f0f921\"]], \"sequentialminus\": [[0.0, \"#0d0887\"], [0.1111111111111111, \"#46039f\"], [0.2222222222222222, \"#7201a8\"], [0.3333333333333333, \"#9c179e\"], [0.4444444444444444, \"#bd3786\"], [0.5555555555555556, \"#d8576b\"], [0.6666666666666666, \"#ed7953\"], [0.7777777777777778, \"#fb9f3a\"], [0.8888888888888888, \"#fdca26\"], [1.0, \"#f0f921\"]]}, \"colorway\": [\"#636efa\", \"#EF553B\", \"#00cc96\", \"#ab63fa\", \"#FFA15A\", \"#19d3f3\", \"#FF6692\", \"#B6E880\", \"#FF97FF\", \"#FECB52\"], \"font\": {\"color\": \"#2a3f5f\"}, \"geo\": {\"bgcolor\": \"white\", \"lakecolor\": \"white\", \"landcolor\": \"#E5ECF6\", \"showlakes\": true, \"showland\": true, \"subunitcolor\": \"white\"}, \"hoverlabel\": {\"align\": \"left\"}, \"hovermode\": \"closest\", \"mapbox\": {\"style\": \"light\"}, \"paper_bgcolor\": \"white\", \"plot_bgcolor\": \"#E5ECF6\", \"polar\": {\"angularaxis\": {\"gridcolor\": \"white\", \"linecolor\": \"white\", \"ticks\": \"\"}, \"bgcolor\": \"#E5ECF6\", \"radialaxis\": {\"gridcolor\": \"white\", \"linecolor\": \"white\", \"ticks\": \"\"}}, \"scene\": {\"xaxis\": {\"backgroundcolor\": \"#E5ECF6\", \"gridcolor\": \"white\", \"gridwidth\": 2, \"linecolor\": \"white\", \"showbackground\": true, \"ticks\": \"\", \"zerolinecolor\": \"white\"}, \"yaxis\": {\"backgroundcolor\": \"#E5ECF6\", \"gridcolor\": \"white\", \"gridwidth\": 2, \"linecolor\": \"white\", \"showbackground\": true, \"ticks\": \"\", \"zerolinecolor\": \"white\"}, \"zaxis\": {\"backgroundcolor\": \"#E5ECF6\", \"gridcolor\": \"white\", \"gridwidth\": 2, \"linecolor\": \"white\", \"showbackground\": true, \"ticks\": \"\", \"zerolinecolor\": \"white\"}}, \"shapedefaults\": {\"line\": {\"color\": \"#2a3f5f\"}}, \"ternary\": {\"aaxis\": {\"gridcolor\": \"white\", \"linecolor\": \"white\", \"ticks\": \"\"}, \"baxis\": {\"gridcolor\": \"white\", \"linecolor\": \"white\", \"ticks\": \"\"}, \"bgcolor\": \"#E5ECF6\", \"caxis\": {\"gridcolor\": \"white\", \"linecolor\": \"white\", \"ticks\": \"\"}}, \"title\": {\"x\": 0.05}, \"xaxis\": {\"automargin\": true, \"gridcolor\": \"white\", \"linecolor\": \"white\", \"ticks\": \"\", \"title\": {\"standoff\": 15}, \"zerolinecolor\": \"white\", \"zerolinewidth\": 2}, \"yaxis\": {\"automargin\": true, \"gridcolor\": \"white\", \"linecolor\": \"white\", \"ticks\": \"\", \"title\": {\"standoff\": 15}, \"zerolinecolor\": \"white\", \"zerolinewidth\": 2}}}, \"title\": {\"text\": \"Weekly Simple Moving Average Deaths vs. Time\"}, \"xaxis\": {\"anchor\": \"y\", \"domain\": [0.0, 1.0], \"title\": {\"text\": \"DATE\"}}, \"yaxis\": {\"anchor\": \"x\", \"domain\": [0.0, 1.0], \"title\": {\"text\": \"SMA7_number_of_deaths\"}}},\n",
              "                        {\"responsive\": true}\n",
              "                    ).then(function(){\n",
              "                            \n",
              "var gd = document.getElementById('18fd45d0-5653-4f9e-911c-431ea8c4c500');\n",
              "var x = new MutationObserver(function (mutations, observer) {{\n",
              "        var display = window.getComputedStyle(gd).display;\n",
              "        if (!display || display === 'none') {{\n",
              "            console.log([gd, 'removed!']);\n",
              "            Plotly.purge(gd);\n",
              "            observer.disconnect();\n",
              "        }}\n",
              "}});\n",
              "\n",
              "// Listen for the removal of the full notebook cells\n",
              "var notebookContainer = gd.closest('#notebook-container');\n",
              "if (notebookContainer) {{\n",
              "    x.observe(notebookContainer, {childList: true});\n",
              "}}\n",
              "\n",
              "// Listen for the clearing of the current output cell\n",
              "var outputEl = gd.closest('.output');\n",
              "if (outputEl) {{\n",
              "    x.observe(outputEl, {childList: true});\n",
              "}}\n",
              "\n",
              "                        })\n",
              "                };\n",
              "                \n",
              "            </script>\n",
              "        </div>\n",
              "</body>\n",
              "</html>"
            ]
          },
          "metadata": {
            "tags": []
          }
        }
      ]
    },
    {
      "cell_type": "code",
      "metadata": {
        "colab": {
          "base_uri": "https://localhost:8080/",
          "height": 542
        },
        "id": "ZXDsYAxPDw0S",
        "outputId": "a0d22b7b-06e4-4b88-c470-017f8dcc96b4"
      },
      "source": [
        "line_SMA_tests.show()"
      ],
      "execution_count": 337,
      "outputs": [
        {
          "output_type": "display_data",
          "data": {
            "text/html": [
              "<html>\n",
              "<head><meta charset=\"utf-8\" /></head>\n",
              "<body>\n",
              "    <div>\n",
              "            <script src=\"https://cdnjs.cloudflare.com/ajax/libs/mathjax/2.7.5/MathJax.js?config=TeX-AMS-MML_SVG\"></script><script type=\"text/javascript\">if (window.MathJax) {MathJax.Hub.Config({SVG: {font: \"STIX-Web\"}});}</script>\n",
              "                <script type=\"text/javascript\">window.PlotlyConfig = {MathJaxConfig: 'local'};</script>\n",
              "        <script src=\"https://cdn.plot.ly/plotly-latest.min.js\"></script>    \n",
              "            <div id=\"1f520ea1-8cf2-45f6-98bc-f94787950722\" class=\"plotly-graph-div\" style=\"height:525px; width:100%;\"></div>\n",
              "            <script type=\"text/javascript\">\n",
              "                \n",
              "                    window.PLOTLYENV=window.PLOTLYENV || {};\n",
              "                    \n",
              "                if (document.getElementById(\"1f520ea1-8cf2-45f6-98bc-f94787950722\")) {\n",
              "                    Plotly.newPlot(\n",
              "                        '1f520ea1-8cf2-45f6-98bc-f94787950722',\n",
              "                        [{\"hoverlabel\": {\"namelength\": 0}, \"hovertemplate\": \"DATE=%{x}<br>SMA7_number_of_tests=%{y}\", \"legendgroup\": \"\", \"line\": {\"color\": \"#636efa\", \"dash\": \"solid\"}, \"mode\": \"lines\", \"name\": \"\", \"showlegend\": false, \"type\": \"scatter\", \"x\": [\"2020/03/26 \", \"2020/03/27 \", \"2020/03/28 \", \"2020/03/29 \", \"2020/03/30 \", \"2020/03/31 \", \"2020/04/01 \", \"2020/04/02 \", \"2020/04/03 \", \"2020/04/04 \", \"2020/04/05 \", \"2020/04/06 \", \"2020/04/07 \", \"2020/04/08 \", \"2020/04/09 \", \"2020/04/10 \", \"2020/04/11 \", \"2020/04/12 \", \"2020/04/13 \", \"2020/04/14 \", \"2020/04/15 \", \"2020/04/16 \", \"2020/04/17 \", \"2020/04/18 \", \"2020/04/19 \", \"2020/04/20 \", \"2020/04/21 \", \"2020/04/22 \", \"2020/04/23 \", \"2020/04/24 \", \"2020/04/25 \", \"2020/04/26 \", \"2020/04/27 \", \"2020/04/28 \", \"2020/04/29 \", \"2020/04/30 \", \"2020/05/01 \", \"2020/05/02 \", \"2020/05/03 \", \"2020/05/04 \", \"2020/05/05 \", \"2020/05/06 \", \"2020/05/07 \", \"2020/05/08 \", \"2020/05/09 \", \"2020/05/10 \", \"2020/05/11 \", \"2020/05/12 \", \"2020/05/13 \", \"2020/05/14 \", \"2020/05/15 \", \"2020/05/16 \", \"2020/05/17 \", \"2020/05/18 \", \"2020/05/19 \", \"2020/05/20 \", \"2020/05/21 \", \"2020/05/22 \", \"2020/05/23 \", \"2020/05/24 \", \"2020/05/25 \", \"2020/05/26 \", \"2020/05/27 \", \"2020/05/28 \", \"2020/05/29 \", \"2020/05/30 \", \"2020/05/31 \", \"2020/06/01 \", \"2020/06/02 \", \"2020/06/03 \", \"2020/06/04 \", \"2020/06/05 \", \"2020/06/06 \", \"2020/06/07 \", \"2020/06/08 \", \"2020/06/09 \", \"2020/06/10 \", \"2020/06/11 \", \"2020/06/12 \", \"2020/06/13 \", \"2020/06/14 \", \"2020/06/15 \", \"2020/06/16 \", \"2020/06/17 \", \"2020/06/18 \", \"2020/06/19 \", \"2020/06/20 \", \"2020/06/21 \", \"2020/06/22 \", \"2020/06/23 \", \"2020/06/24 \", \"2020/06/25 \", \"2020/06/26 \", \"2020/06/27 \", \"2020/06/28 \", \"2020/06/29 \", \"2020/06/30 \", \"2020/07/01 \", \"2020/07/02 \", \"2020/07/03 \", \"2020/07/04 \", \"2020/07/05 \", \"2020/07/06 \", \"2020/07/07 \", \"2020/07/08 \", \"2020/07/09 \", \"2020/07/10 \", \"2020/07/11 \", \"2020/07/12 \", \"2020/07/13 \", \"2020/07/14 \", \"2020/07/15 \", \"2020/07/16 \", \"2020/07/17 \", \"2020/07/18 \", \"2020/07/19 \", \"2020/07/20 \", \"2020/07/21 \", \"2020/07/22 \", \"2020/07/23 \", \"2020/07/24 \", \"2020/07/25 \", \"2020/07/26 \", \"2020/07/27 \", \"2020/07/28 \", \"2020/07/29 \", \"2020/07/30 \", \"2020/07/31 \", \"2020/08/01 \", \"2020/08/02 \", \"2020/08/03 \", \"2020/08/04 \", \"2020/08/05 \", \"2020/08/06 \", \"2020/08/07 \", \"2020/08/08 \", \"2020/08/09 \", \"2020/08/10 \", \"2020/08/11 \", \"2020/08/12 \", \"2020/08/13 \", \"2020/08/14 \", \"2020/08/15 \", \"2020/08/16 \", \"2020/08/17 \", \"2020/08/18 \", \"2020/08/19 \", \"2020/08/20 \", \"2020/08/21 \", \"2020/08/22 \", \"2020/08/23 \", \"2020/08/24 \", \"2020/08/25 \", \"2020/08/26 \", \"2020/08/27 \", \"2020/08/28 \", \"2020/08/29 \", \"2020/08/30 \", \"2020/08/31 \", \"2020/09/01 \", \"2020/09/02 \", \"2020/09/03 \", \"2020/09/04 \", \"2020/09/05 \", \"2020/09/06 \", \"2020/09/07 \", \"2020/09/08 \", \"2020/09/09 \", \"2020/09/10 \", \"2020/09/11 \", \"2020/09/12 \", \"2020/09/13 \", \"2020/09/14 \", \"2020/09/15 \", \"2020/09/16 \", \"2020/09/17 \", \"2020/09/18 \", \"2020/09/19 \", \"2020/09/20 \", \"2020/09/21 \", \"2020/09/22 \", \"2020/09/23 \", \"2020/09/24 \", \"2020/09/25 \", \"2020/09/26 \", \"2020/09/27 \", \"2020/09/28 \", \"2020/09/29 \", \"2020/09/30 \", \"2020/10/01 \", \"2020/10/02 \", \"2020/10/03 \", \"2020/10/04 \", \"2020/10/05 \", \"2020/10/06 \", \"2020/10/07 \", \"2020/10/08 \", \"2020/10/09 \", \"2020/10/10 \", \"2020/10/11 \", \"2020/10/12 \", \"2020/10/13 \", \"2020/10/14 \", \"2020/10/15 \", \"2020/10/16 \", \"2020/10/17 \", \"2020/10/18 \", \"2020/10/19 \", \"2020/10/20 \", \"2020/10/21 \", \"2020/10/22 \", \"2020/10/23 \", \"2020/10/24 \", \"2020/10/25 \", \"2020/10/26 \", \"2020/10/27 \", \"2020/10/28 \", \"2020/10/29 \", \"2020/10/30 \", \"2020/10/31 \", \"2020/11/01 \", \"2020/11/02 \", \"2020/11/03 \", \"2020/11/04 \", \"2020/11/05 \", \"2020/11/06 \", \"2020/11/07 \", \"2020/11/08 \", \"2020/11/09 \", \"2020/11/10 \", \"2020/11/11 \", \"2020/11/12 \", \"2020/11/13 \", \"2020/11/14 \", \"2020/11/15 \", \"2020/11/16 \", \"2020/11/17 \", \"2020/11/18 \", \"2020/11/19 \", \"2020/11/20 \", \"2020/11/21 \", \"2020/11/22 \", \"2020/11/23 \", \"2020/11/24 \", \"2020/11/25 \", \"2020/11/26 \", \"2020/11/27 \", \"2020/11/28 \", \"2020/11/29 \", \"2020/11/30 \", \"2020/12/01 \", \"2020/12/02 \"], \"xaxis\": \"x\", \"y\": [null, null, null, null, null, null, 2189.5714285714284, 2363.0, 2299.285714285714, 2598.285714285714, 2748.0, 2655.1428571428573, 3367.8571428571427, 3456.0, 3583.5714285714284, 3726.285714285714, 3551.285714285714, 3718.714285714286, 3744.5714285714284, 2955.1428571428573, 3016.1428571428573, 2946.714285714286, 2968.0, 3050.1428571428573, 3073.285714285714, 3159.8571428571427, 3289.714285714286, 3336.1428571428573, 3543.4285714285716, 3644.714285714286, 3868.0, 3878.4285714285716, 3973.4285714285716, 3935.714285714286, 4156.428571428572, 4211.714285714285, 4304.571428571428, 4350.714285714285, 4578.0, 4619.285714285715, 4832.428571428572, 4968.142857142857, 4935.142857142857, 5069.285714285715, 5461.857142857143, 5789.714285714285, 5878.285714285715, 6005.0, 5953.714285714285, 6272.857142857143, 6499.285714285715, 6349.285714285715, 6175.857142857143, 6464.428571428572, 6762.0, 7275.142857142857, 7161.142857142857, 7313.0, 7371.571428571428, 7959.714285714285, 8010.428571428572, 8442.142857142857, 9402.857142857143, 10149.57142857143, 10454.0, 10838.42857142857, 10548.285714285714, 10928.714285714286, 11476.42857142857, 10786.57142857143, 11004.57142857143, 11239.142857142857, 11229.57142857143, 11130.714285714286, 11032.857142857143, 10193.857142857143, 10200.0, 9703.714285714286, 9429.142857142857, 9304.0, 9359.857142857143, 9700.57142857143, 10717.42857142857, 10291.857142857143, 10132.285714285714, 10310.42857142857, 10445.857142857143, 10296.285714285714, 10277.714285714286, 9319.0, 9758.0, 9942.857142857143, 9744.57142857143, 9479.857142857143, 10209.857142857143, 9969.142857142857, 10067.42857142857, 10356.714285714286, 11163.42857142857, 11526.57142857143, 11745.285714285714, 11516.0, 11680.0, 12017.42857142857, 12225.857142857143, 11900.57142857143, 11746.714285714286, 13466.142857142857, 13482.142857142857, 14257.142857142857, 15592.285714285714, 15851.285714285714, 17405.14285714286, 18278.0, 19388.428571428572, 19918.14285714286, 20673.0, 20634.285714285714, 20511.285714285714, 20518.0, 22930.85714285714, 21952.85714285714, 23188.571428571428, 23676.714285714286, 22924.85714285714, 24299.571428571428, 24926.428571428572, 24373.714285714286, 24614.428571428572, 24766.85714285714, 23675.571428571428, 24527.14285714286, 23238.285714285714, 23212.714285714286, 21744.14285714286, 24163.714285714286, 24877.285714285714, 24997.0, 24471.428571428572, 26335.428571428572, 25730.571428571428, 27570.714285714286, 25423.428571428572, 25339.14285714286, 25173.14285714286, 24574.428571428572, 22909.0, 23652.0, 22931.14285714286, 22287.0, 21314.714285714286, 20870.0, 20663.0, 21146.428571428572, 20913.285714285714, 20282.285714285714, 20793.571428571428, 20451.0, 20560.571428571428, 20563.14285714286, 21026.428571428572, 21262.714285714286, 21837.85714285714, 20692.14285714286, 21074.571428571428, 20974.571428571428, 20580.428571428572, 19734.85714285714, 18759.85714285714, 19490.14285714286, 20462.714285714286, 20123.14285714286, 20874.85714285714, 23292.571428571428, 24509.571428571428, 24800.85714285714, 25347.428571428572, 26112.714285714286, 25735.0, 25197.0, 24136.0, 23634.714285714286, 24269.85714285714, 23484.571428571428, 23650.714285714286, 24002.285714285714, 24092.85714285714, 23839.571428571428, 23866.14285714286, 24121.14285714286, 23320.285714285714, 22793.285714285714, 22759.0, 23139.428571428572, 23617.0, 24336.571428571428, 23799.85714285714, 24892.714285714286, 25295.571428571428, 25921.714285714286, 26058.428571428572, 26223.571428571428, 26171.285714285714, 26246.714285714286, 26650.714285714286, 26700.285714285714, 26802.0, 26696.85714285714, 26007.285714285714, 26263.714285714286, 26960.714285714286, 26373.714285714286, 26707.571428571428, 26296.285714285714, 27030.14285714286, 27776.14285714286, 27377.285714285714, 26804.285714285714, 26888.14285714286, 26586.428571428572, 27304.714285714286, 26845.0, 27271.0, 27309.714285714286, 28290.0, 28808.285714285714, 28881.428571428572, 28411.85714285714, 29078.0, 29365.285714285714, 29896.14285714286, 29409.85714285714, 29550.14285714286, 29307.85714285714, 30923.0, 31378.714285714286, 32024.714285714286, 33787.57142857143, 35111.0, 37052.71428571428, 40106.857142857145, 39593.857142857145, 39797.142857142855, 41753.142857142855, 41435.57142857143, 42302.142857142855, 38947.857142857145, 37419.28571428572, 36863.28571428572, 37082.57142857143, 35684.71428571428, 34166.57142857143], \"yaxis\": \"y\"}],\n",
              "                        {\"legend\": {\"tracegroupgap\": 0}, \"template\": {\"data\": {\"bar\": [{\"error_x\": {\"color\": \"#2a3f5f\"}, \"error_y\": {\"color\": \"#2a3f5f\"}, \"marker\": {\"line\": {\"color\": \"#E5ECF6\", \"width\": 0.5}}, \"type\": \"bar\"}], \"barpolar\": [{\"marker\": {\"line\": {\"color\": \"#E5ECF6\", \"width\": 0.5}}, \"type\": \"barpolar\"}], \"carpet\": [{\"aaxis\": {\"endlinecolor\": \"#2a3f5f\", \"gridcolor\": \"white\", \"linecolor\": \"white\", \"minorgridcolor\": \"white\", \"startlinecolor\": \"#2a3f5f\"}, \"baxis\": {\"endlinecolor\": \"#2a3f5f\", \"gridcolor\": \"white\", \"linecolor\": \"white\", \"minorgridcolor\": \"white\", \"startlinecolor\": \"#2a3f5f\"}, \"type\": \"carpet\"}], \"choropleth\": [{\"colorbar\": {\"outlinewidth\": 0, \"ticks\": \"\"}, \"type\": \"choropleth\"}], \"contour\": [{\"colorbar\": {\"outlinewidth\": 0, \"ticks\": \"\"}, \"colorscale\": [[0.0, \"#0d0887\"], [0.1111111111111111, \"#46039f\"], [0.2222222222222222, \"#7201a8\"], [0.3333333333333333, \"#9c179e\"], [0.4444444444444444, \"#bd3786\"], [0.5555555555555556, \"#d8576b\"], [0.6666666666666666, \"#ed7953\"], [0.7777777777777778, \"#fb9f3a\"], [0.8888888888888888, \"#fdca26\"], [1.0, \"#f0f921\"]], \"type\": \"contour\"}], \"contourcarpet\": [{\"colorbar\": {\"outlinewidth\": 0, \"ticks\": \"\"}, \"type\": \"contourcarpet\"}], \"heatmap\": [{\"colorbar\": {\"outlinewidth\": 0, \"ticks\": \"\"}, \"colorscale\": [[0.0, \"#0d0887\"], [0.1111111111111111, \"#46039f\"], [0.2222222222222222, \"#7201a8\"], [0.3333333333333333, \"#9c179e\"], [0.4444444444444444, \"#bd3786\"], [0.5555555555555556, \"#d8576b\"], [0.6666666666666666, \"#ed7953\"], [0.7777777777777778, \"#fb9f3a\"], [0.8888888888888888, \"#fdca26\"], [1.0, \"#f0f921\"]], \"type\": \"heatmap\"}], \"heatmapgl\": [{\"colorbar\": {\"outlinewidth\": 0, \"ticks\": \"\"}, \"colorscale\": [[0.0, \"#0d0887\"], [0.1111111111111111, \"#46039f\"], [0.2222222222222222, \"#7201a8\"], [0.3333333333333333, \"#9c179e\"], [0.4444444444444444, \"#bd3786\"], [0.5555555555555556, \"#d8576b\"], [0.6666666666666666, \"#ed7953\"], [0.7777777777777778, \"#fb9f3a\"], [0.8888888888888888, \"#fdca26\"], [1.0, \"#f0f921\"]], \"type\": \"heatmapgl\"}], \"histogram\": [{\"marker\": {\"colorbar\": {\"outlinewidth\": 0, \"ticks\": \"\"}}, \"type\": \"histogram\"}], \"histogram2d\": [{\"colorbar\": {\"outlinewidth\": 0, \"ticks\": \"\"}, \"colorscale\": [[0.0, \"#0d0887\"], [0.1111111111111111, \"#46039f\"], [0.2222222222222222, \"#7201a8\"], [0.3333333333333333, \"#9c179e\"], [0.4444444444444444, \"#bd3786\"], [0.5555555555555556, \"#d8576b\"], [0.6666666666666666, \"#ed7953\"], [0.7777777777777778, \"#fb9f3a\"], [0.8888888888888888, \"#fdca26\"], [1.0, \"#f0f921\"]], \"type\": \"histogram2d\"}], \"histogram2dcontour\": [{\"colorbar\": {\"outlinewidth\": 0, \"ticks\": \"\"}, \"colorscale\": [[0.0, \"#0d0887\"], [0.1111111111111111, \"#46039f\"], [0.2222222222222222, \"#7201a8\"], [0.3333333333333333, \"#9c179e\"], [0.4444444444444444, \"#bd3786\"], [0.5555555555555556, \"#d8576b\"], [0.6666666666666666, \"#ed7953\"], [0.7777777777777778, \"#fb9f3a\"], [0.8888888888888888, \"#fdca26\"], [1.0, \"#f0f921\"]], \"type\": \"histogram2dcontour\"}], \"mesh3d\": [{\"colorbar\": {\"outlinewidth\": 0, \"ticks\": \"\"}, \"type\": \"mesh3d\"}], \"parcoords\": [{\"line\": {\"colorbar\": {\"outlinewidth\": 0, \"ticks\": \"\"}}, \"type\": \"parcoords\"}], \"pie\": [{\"automargin\": true, \"type\": \"pie\"}], \"scatter\": [{\"marker\": {\"colorbar\": {\"outlinewidth\": 0, \"ticks\": \"\"}}, \"type\": \"scatter\"}], \"scatter3d\": [{\"line\": {\"colorbar\": {\"outlinewidth\": 0, \"ticks\": \"\"}}, \"marker\": {\"colorbar\": {\"outlinewidth\": 0, \"ticks\": \"\"}}, \"type\": \"scatter3d\"}], \"scattercarpet\": [{\"marker\": {\"colorbar\": {\"outlinewidth\": 0, \"ticks\": \"\"}}, \"type\": \"scattercarpet\"}], \"scattergeo\": [{\"marker\": {\"colorbar\": {\"outlinewidth\": 0, \"ticks\": \"\"}}, \"type\": \"scattergeo\"}], \"scattergl\": [{\"marker\": {\"colorbar\": {\"outlinewidth\": 0, \"ticks\": \"\"}}, \"type\": \"scattergl\"}], \"scattermapbox\": [{\"marker\": {\"colorbar\": {\"outlinewidth\": 0, \"ticks\": \"\"}}, \"type\": \"scattermapbox\"}], \"scatterpolar\": [{\"marker\": {\"colorbar\": {\"outlinewidth\": 0, \"ticks\": \"\"}}, \"type\": \"scatterpolar\"}], \"scatterpolargl\": [{\"marker\": {\"colorbar\": {\"outlinewidth\": 0, \"ticks\": \"\"}}, \"type\": \"scatterpolargl\"}], \"scatterternary\": [{\"marker\": {\"colorbar\": {\"outlinewidth\": 0, \"ticks\": \"\"}}, \"type\": \"scatterternary\"}], \"surface\": [{\"colorbar\": {\"outlinewidth\": 0, \"ticks\": \"\"}, \"colorscale\": [[0.0, \"#0d0887\"], [0.1111111111111111, \"#46039f\"], [0.2222222222222222, \"#7201a8\"], [0.3333333333333333, \"#9c179e\"], [0.4444444444444444, \"#bd3786\"], [0.5555555555555556, \"#d8576b\"], [0.6666666666666666, \"#ed7953\"], [0.7777777777777778, \"#fb9f3a\"], [0.8888888888888888, \"#fdca26\"], [1.0, \"#f0f921\"]], \"type\": \"surface\"}], \"table\": [{\"cells\": {\"fill\": {\"color\": \"#EBF0F8\"}, \"line\": {\"color\": \"white\"}}, \"header\": {\"fill\": {\"color\": \"#C8D4E3\"}, \"line\": {\"color\": \"white\"}}, \"type\": \"table\"}]}, \"layout\": {\"annotationdefaults\": {\"arrowcolor\": \"#2a3f5f\", \"arrowhead\": 0, \"arrowwidth\": 1}, \"coloraxis\": {\"colorbar\": {\"outlinewidth\": 0, \"ticks\": \"\"}}, \"colorscale\": {\"diverging\": [[0, \"#8e0152\"], [0.1, \"#c51b7d\"], [0.2, \"#de77ae\"], [0.3, \"#f1b6da\"], [0.4, \"#fde0ef\"], [0.5, \"#f7f7f7\"], [0.6, \"#e6f5d0\"], [0.7, \"#b8e186\"], [0.8, \"#7fbc41\"], [0.9, \"#4d9221\"], [1, \"#276419\"]], \"sequential\": [[0.0, \"#0d0887\"], [0.1111111111111111, \"#46039f\"], [0.2222222222222222, \"#7201a8\"], [0.3333333333333333, \"#9c179e\"], [0.4444444444444444, \"#bd3786\"], [0.5555555555555556, \"#d8576b\"], [0.6666666666666666, \"#ed7953\"], [0.7777777777777778, \"#fb9f3a\"], [0.8888888888888888, \"#fdca26\"], [1.0, \"#f0f921\"]], \"sequentialminus\": [[0.0, \"#0d0887\"], [0.1111111111111111, \"#46039f\"], [0.2222222222222222, \"#7201a8\"], [0.3333333333333333, \"#9c179e\"], [0.4444444444444444, \"#bd3786\"], [0.5555555555555556, \"#d8576b\"], [0.6666666666666666, \"#ed7953\"], [0.7777777777777778, \"#fb9f3a\"], [0.8888888888888888, \"#fdca26\"], [1.0, \"#f0f921\"]]}, \"colorway\": [\"#636efa\", \"#EF553B\", \"#00cc96\", \"#ab63fa\", \"#FFA15A\", \"#19d3f3\", \"#FF6692\", \"#B6E880\", \"#FF97FF\", \"#FECB52\"], \"font\": {\"color\": \"#2a3f5f\"}, \"geo\": {\"bgcolor\": \"white\", \"lakecolor\": \"white\", \"landcolor\": \"#E5ECF6\", \"showlakes\": true, \"showland\": true, \"subunitcolor\": \"white\"}, \"hoverlabel\": {\"align\": \"left\"}, \"hovermode\": \"closest\", \"mapbox\": {\"style\": \"light\"}, \"paper_bgcolor\": \"white\", \"plot_bgcolor\": \"#E5ECF6\", \"polar\": {\"angularaxis\": {\"gridcolor\": \"white\", \"linecolor\": \"white\", \"ticks\": \"\"}, \"bgcolor\": \"#E5ECF6\", \"radialaxis\": {\"gridcolor\": \"white\", \"linecolor\": \"white\", \"ticks\": \"\"}}, \"scene\": {\"xaxis\": {\"backgroundcolor\": \"#E5ECF6\", \"gridcolor\": \"white\", \"gridwidth\": 2, \"linecolor\": \"white\", \"showbackground\": true, \"ticks\": \"\", \"zerolinecolor\": \"white\"}, \"yaxis\": {\"backgroundcolor\": \"#E5ECF6\", \"gridcolor\": \"white\", \"gridwidth\": 2, \"linecolor\": \"white\", \"showbackground\": true, \"ticks\": \"\", \"zerolinecolor\": \"white\"}, \"zaxis\": {\"backgroundcolor\": \"#E5ECF6\", \"gridcolor\": \"white\", \"gridwidth\": 2, \"linecolor\": \"white\", \"showbackground\": true, \"ticks\": \"\", \"zerolinecolor\": \"white\"}}, \"shapedefaults\": {\"line\": {\"color\": \"#2a3f5f\"}}, \"ternary\": {\"aaxis\": {\"gridcolor\": \"white\", \"linecolor\": \"white\", \"ticks\": \"\"}, \"baxis\": {\"gridcolor\": \"white\", \"linecolor\": \"white\", \"ticks\": \"\"}, \"bgcolor\": \"#E5ECF6\", \"caxis\": {\"gridcolor\": \"white\", \"linecolor\": \"white\", \"ticks\": \"\"}}, \"title\": {\"x\": 0.05}, \"xaxis\": {\"automargin\": true, \"gridcolor\": \"white\", \"linecolor\": \"white\", \"ticks\": \"\", \"title\": {\"standoff\": 15}, \"zerolinecolor\": \"white\", \"zerolinewidth\": 2}, \"yaxis\": {\"automargin\": true, \"gridcolor\": \"white\", \"linecolor\": \"white\", \"ticks\": \"\", \"title\": {\"standoff\": 15}, \"zerolinecolor\": \"white\", \"zerolinewidth\": 2}}}, \"title\": {\"text\": \"Weekly Simple Moving Average Tests vs. Time\"}, \"xaxis\": {\"anchor\": \"y\", \"domain\": [0.0, 1.0], \"title\": {\"text\": \"DATE\"}}, \"yaxis\": {\"anchor\": \"x\", \"domain\": [0.0, 1.0], \"title\": {\"text\": \"SMA7_number_of_tests\"}}},\n",
              "                        {\"responsive\": true}\n",
              "                    ).then(function(){\n",
              "                            \n",
              "var gd = document.getElementById('1f520ea1-8cf2-45f6-98bc-f94787950722');\n",
              "var x = new MutationObserver(function (mutations, observer) {{\n",
              "        var display = window.getComputedStyle(gd).display;\n",
              "        if (!display || display === 'none') {{\n",
              "            console.log([gd, 'removed!']);\n",
              "            Plotly.purge(gd);\n",
              "            observer.disconnect();\n",
              "        }}\n",
              "}});\n",
              "\n",
              "// Listen for the removal of the full notebook cells\n",
              "var notebookContainer = gd.closest('#notebook-container');\n",
              "if (notebookContainer) {{\n",
              "    x.observe(notebookContainer, {childList: true});\n",
              "}}\n",
              "\n",
              "// Listen for the clearing of the current output cell\n",
              "var outputEl = gd.closest('.output');\n",
              "if (outputEl) {{\n",
              "    x.observe(outputEl, {childList: true});\n",
              "}}\n",
              "\n",
              "                        })\n",
              "                };\n",
              "                \n",
              "            </script>\n",
              "        </div>\n",
              "</body>\n",
              "</html>"
            ]
          },
          "metadata": {
            "tags": []
          }
        }
      ]
    },
    {
      "cell_type": "code",
      "metadata": {
        "colab": {
          "base_uri": "https://localhost:8080/",
          "height": 542
        },
        "id": "liT18QfEE5ra",
        "outputId": "71f58ce6-2fc6-448f-8da8-59ce575f6e72"
      },
      "source": [
        "line_SMA_hospitalizations.show()"
      ],
      "execution_count": 338,
      "outputs": [
        {
          "output_type": "display_data",
          "data": {
            "text/html": [
              "<html>\n",
              "<head><meta charset=\"utf-8\" /></head>\n",
              "<body>\n",
              "    <div>\n",
              "            <script src=\"https://cdnjs.cloudflare.com/ajax/libs/mathjax/2.7.5/MathJax.js?config=TeX-AMS-MML_SVG\"></script><script type=\"text/javascript\">if (window.MathJax) {MathJax.Hub.Config({SVG: {font: \"STIX-Web\"}});}</script>\n",
              "                <script type=\"text/javascript\">window.PlotlyConfig = {MathJaxConfig: 'local'};</script>\n",
              "        <script src=\"https://cdn.plot.ly/plotly-latest.min.js\"></script>    \n",
              "            <div id=\"b2bd1071-7563-481e-b6c0-12808a0ccee6\" class=\"plotly-graph-div\" style=\"height:525px; width:100%;\"></div>\n",
              "            <script type=\"text/javascript\">\n",
              "                \n",
              "                    window.PLOTLYENV=window.PLOTLYENV || {};\n",
              "                    \n",
              "                if (document.getElementById(\"b2bd1071-7563-481e-b6c0-12808a0ccee6\")) {\n",
              "                    Plotly.newPlot(\n",
              "                        'b2bd1071-7563-481e-b6c0-12808a0ccee6',\n",
              "                        [{\"hoverlabel\": {\"namelength\": 0}, \"hovertemplate\": \"DATE=%{x}<br>SMA7_number_of_hospitalizations=%{y}\", \"legendgroup\": \"\", \"line\": {\"color\": \"#636efa\", \"dash\": \"solid\"}, \"mode\": \"lines\", \"name\": \"\", \"showlegend\": false, \"type\": \"scatter\", \"x\": [\"2020/03/26 \", \"2020/03/27 \", \"2020/03/28 \", \"2020/03/29 \", \"2020/03/30 \", \"2020/03/31 \", \"2020/04/01 \", \"2020/04/02 \", \"2020/04/03 \", \"2020/04/04 \", \"2020/04/05 \", \"2020/04/06 \", \"2020/04/07 \", \"2020/04/08 \", \"2020/04/09 \", \"2020/04/10 \", \"2020/04/11 \", \"2020/04/12 \", \"2020/04/13 \", \"2020/04/14 \", \"2020/04/15 \", \"2020/04/16 \", \"2020/04/17 \", \"2020/04/18 \", \"2020/04/19 \", \"2020/04/20 \", \"2020/04/21 \", \"2020/04/22 \", \"2020/04/23 \", \"2020/04/24 \", \"2020/04/25 \", \"2020/04/26 \", \"2020/04/27 \", \"2020/04/28 \", \"2020/04/29 \", \"2020/04/30 \", \"2020/05/01 \", \"2020/05/02 \", \"2020/05/03 \", \"2020/05/04 \", \"2020/05/05 \", \"2020/05/06 \", \"2020/05/07 \", \"2020/05/08 \", \"2020/05/09 \", \"2020/05/10 \", \"2020/05/11 \", \"2020/05/12 \", \"2020/05/13 \", \"2020/05/14 \", \"2020/05/15 \", \"2020/05/16 \", \"2020/05/17 \", \"2020/05/18 \", \"2020/05/19 \", \"2020/05/20 \", \"2020/05/21 \", \"2020/05/22 \", \"2020/05/23 \", \"2020/05/24 \", \"2020/05/25 \", \"2020/05/26 \", \"2020/05/27 \", \"2020/05/28 \", \"2020/05/29 \", \"2020/05/30 \", \"2020/05/31 \", \"2020/06/01 \", \"2020/06/02 \", \"2020/06/03 \", \"2020/06/04 \", \"2020/06/05 \", \"2020/06/06 \", \"2020/06/07 \", \"2020/06/08 \", \"2020/06/09 \", \"2020/06/10 \", \"2020/06/11 \", \"2020/06/12 \", \"2020/06/13 \", \"2020/06/14 \", \"2020/06/15 \", \"2020/06/16 \", \"2020/06/17 \", \"2020/06/18 \", \"2020/06/19 \", \"2020/06/20 \", \"2020/06/21 \", \"2020/06/22 \", \"2020/06/23 \", \"2020/06/24 \", \"2020/06/25 \", \"2020/06/26 \", \"2020/06/27 \", \"2020/06/28 \", \"2020/06/29 \", \"2020/06/30 \", \"2020/07/01 \", \"2020/07/02 \", \"2020/07/03 \", \"2020/07/04 \", \"2020/07/05 \", \"2020/07/06 \", \"2020/07/07 \", \"2020/07/08 \", \"2020/07/09 \", \"2020/07/10 \", \"2020/07/11 \", \"2020/07/12 \", \"2020/07/13 \", \"2020/07/14 \", \"2020/07/15 \", \"2020/07/16 \", \"2020/07/17 \", \"2020/07/18 \", \"2020/07/19 \", \"2020/07/20 \", \"2020/07/21 \", \"2020/07/22 \", \"2020/07/23 \", \"2020/07/24 \", \"2020/07/25 \", \"2020/07/26 \", \"2020/07/27 \", \"2020/07/28 \", \"2020/07/29 \", \"2020/07/30 \", \"2020/07/31 \", \"2020/08/01 \", \"2020/08/02 \", \"2020/08/03 \", \"2020/08/04 \", \"2020/08/05 \", \"2020/08/06 \", \"2020/08/07 \", \"2020/08/08 \", \"2020/08/09 \", \"2020/08/10 \", \"2020/08/11 \", \"2020/08/12 \", \"2020/08/13 \", \"2020/08/14 \", \"2020/08/15 \", \"2020/08/16 \", \"2020/08/17 \", \"2020/08/18 \", \"2020/08/19 \", \"2020/08/20 \", \"2020/08/21 \", \"2020/08/22 \", \"2020/08/23 \", \"2020/08/24 \", \"2020/08/25 \", \"2020/08/26 \", \"2020/08/27 \", \"2020/08/28 \", \"2020/08/29 \", \"2020/08/30 \", \"2020/08/31 \", \"2020/09/01 \", \"2020/09/02 \", \"2020/09/03 \", \"2020/09/04 \", \"2020/09/05 \", \"2020/09/06 \", \"2020/09/07 \", \"2020/09/08 \", \"2020/09/09 \", \"2020/09/10 \", \"2020/09/11 \", \"2020/09/12 \", \"2020/09/13 \", \"2020/09/14 \", \"2020/09/15 \", \"2020/09/16 \", \"2020/09/17 \", \"2020/09/18 \", \"2020/09/19 \", \"2020/09/20 \", \"2020/09/21 \", \"2020/09/22 \", \"2020/09/23 \", \"2020/09/24 \", \"2020/09/25 \", \"2020/09/26 \", \"2020/09/27 \", \"2020/09/28 \", \"2020/09/29 \", \"2020/09/30 \", \"2020/10/01 \", \"2020/10/02 \", \"2020/10/03 \", \"2020/10/04 \", \"2020/10/05 \", \"2020/10/06 \", \"2020/10/07 \", \"2020/10/08 \", \"2020/10/09 \", \"2020/10/10 \", \"2020/10/11 \", \"2020/10/12 \", \"2020/10/13 \", \"2020/10/14 \", \"2020/10/15 \", \"2020/10/16 \", \"2020/10/17 \", \"2020/10/18 \", \"2020/10/19 \", \"2020/10/20 \", \"2020/10/21 \", \"2020/10/22 \", \"2020/10/23 \", \"2020/10/24 \", \"2020/10/25 \", \"2020/10/26 \", \"2020/10/27 \", \"2020/10/28 \", \"2020/10/29 \", \"2020/10/30 \", \"2020/10/31 \", \"2020/11/01 \", \"2020/11/02 \", \"2020/11/03 \", \"2020/11/04 \", \"2020/11/05 \", \"2020/11/06 \", \"2020/11/07 \", \"2020/11/08 \", \"2020/11/09 \", \"2020/11/10 \", \"2020/11/11 \", \"2020/11/12 \", \"2020/11/13 \", \"2020/11/14 \", \"2020/11/15 \", \"2020/11/16 \", \"2020/11/17 \", \"2020/11/18 \", \"2020/11/19 \", \"2020/11/20 \", \"2020/11/21 \", \"2020/11/22 \", \"2020/11/23 \", \"2020/11/24 \", \"2020/11/25 \", \"2020/11/26 \", \"2020/11/27 \", \"2020/11/28 \", \"2020/11/29 \", \"2020/11/30 \", \"2020/12/01 \", \"2020/12/02 \"], \"xaxis\": \"x\", \"y\": [null, null, null, null, null, null, 231.57142857142858, null, null, null, null, null, null, null, 707.7142857142857, 775.0, 834.2857142857143, 900.0, 943.0, 982.7142857142857, 1026.7142857142858, 1068.857142857143, 1109.2857142857142, 1147.5714285714287, 1186.142857142857, 1224.5714285714287, 1275.142857142857, 1314.5714285714287, 1341.142857142857, 1373.142857142857, 1390.2857142857142, 1415.142857142857, 1439.857142857143, 1453.4285714285713, 1483.857142857143, 1527.5714285714287, 1562.2857142857142, 1597.857142857143, 1622.4285714285713, 1641.857142857143, 1665.4285714285713, 1674.2857142857142, 1670.2857142857142, 1671.142857142857, 1672.2857142857142, 1673.0, 1658.0, 1639.4285714285713, 1617.0, 1596.2857142857142, 1570.857142857143, 1547.2857142857142, 1521.5714285714287, 1507.7142857142858, 1487.4285714285713, 1467.4285714285713, 1444.0, 1420.142857142857, 1394.4285714285713, 1370.142857142857, 1346.142857142857, 1331.0, 1320.7142857142858, 1315.0, 1310.2857142857142, 1298.7142857142858, 1283.4285714285713, 1268.4285714285713, 1244.5714285714287, 1212.4285714285713, 1178.4285714285713, 1147.0, 1121.2857142857142, 1095.5714285714287, 1067.7142857142858, 1042.2857142857142, 1019.7142857142857, 992.0, 957.7142857142857, 920.5714285714286, 884.5714285714286, 851.1428571428571, 818.5714285714286, 782.4285714285714, 747.8571428571429, 721.0, 698.8571428571429, 678.4285714285714, 658.0, 632.1428571428571, 609.5714285714286, 588.2857142857143, 565.2857142857143, 541.5714285714286, 518.4285714285714, 496.2857142857143, 480.7142857142857, 468.85714285714283, 458.85714285714283, 449.57142857142856, 439.85714285714283, 434.57142857142856, 428.2857142857143, 421.42857142857144, 412.42857142857144, 407.42857142857144, 402.14285714285717, 399.2857142857143, 396.85714285714283, 394.42857142857144, 396.0, 403.0, 407.2857142857143, 414.2857142857143, 422.57142857142856, 430.7142857142857, 441.7142857142857, 451.57142857142856, 459.85714285714283, 473.0, 487.14285714285717, 501.0, 514.0, 524.4285714285714, 532.7142857142857, 542.1428571428571, 550.2857142857143, 558.4285714285714, 565.1428571428571, 567.0, 568.7142857142857, 569.4285714285714, 567.1428571428571, 560.0, 551.1428571428571, 540.1428571428571, 536.1428571428571, 534.1428571428571, 531.5714285714286, 522.0, 512.7142857142857, 502.57142857142856, 494.7142857142857, 487.57142857142856, 473.42857142857144, 462.57142857142856, 460.7142857142857, 458.57142857142856, 458.2857142857143, 455.57142857142856, 445.85714285714283, 441.85714285714283, 435.85714285714283, 429.7142857142857, 423.57142857142856, 417.42857142857144, 409.7142857142857, 402.7142857142857, 398.42857142857144, 394.7142857142857, 385.85714285714283, 381.57142857142856, 379.14285714285717, 374.2857142857143, 371.85714285714283, 369.7142857142857, 366.85714285714283, 366.85714285714283, 363.42857142857144, 359.7142857142857, 360.85714285714283, 362.2857142857143, 360.14285714285717, 361.0, 357.7142857142857, 357.0, 353.85714285714283, 348.57142857142856, 338.57142857142856, 330.42857142857144, 321.57142857142856, 319.42857142857144, 318.85714285714283, 318.42857142857144, 321.7142857142857, 328.42857142857144, 332.0, 337.0, 337.2857142857143, 334.7142857142857, 331.7142857142857, 328.2857142857143, 327.14285714285717, 330.42857142857144, 332.7142857142857, 340.85714285714283, 351.14285714285717, 360.85714285714283, 369.42857142857144, 379.85714285714283, 386.42857142857144, 392.42857142857144, 396.14285714285717, 397.42857142857144, 401.0, 406.57142857142856, 412.2857142857143, 419.42857142857144, 428.2857142857143, 434.85714285714283, 441.42857142857144, 447.42857142857144, 452.14285714285717, 454.0, 457.14285714285717, 458.14285714285717, 463.57142857142856, 469.85714285714283, 477.7142857142857, 487.0, 498.0, 508.42857142857144, 521.4285714285714, 534.8571428571429, 547.1428571428571, 560.8571428571429, 576.8571428571429, 595.7142857142857, 621.1428571428571, 649.5714285714286, 679.5714285714286, 718.8571428571429, 762.4285714285714, 803.7142857142857, 844.1428571428571, 883.8571428571429, 924.5714285714286, 973.0, 1020.0, 1061.857142857143, 1105.857142857143, 1148.5714285714287, 1190.142857142857, 1232.2857142857142, 1269.7142857142858, 1307.0, 1339.5714285714287, 1370.5714285714287, 1402.5714285714287, 1438.4285714285713, 1473.0, 1497.5714285714287], \"yaxis\": \"y\"}],\n",
              "                        {\"legend\": {\"tracegroupgap\": 0}, \"template\": {\"data\": {\"bar\": [{\"error_x\": {\"color\": \"#2a3f5f\"}, \"error_y\": {\"color\": \"#2a3f5f\"}, \"marker\": {\"line\": {\"color\": \"#E5ECF6\", \"width\": 0.5}}, \"type\": \"bar\"}], \"barpolar\": [{\"marker\": {\"line\": {\"color\": \"#E5ECF6\", \"width\": 0.5}}, \"type\": \"barpolar\"}], \"carpet\": [{\"aaxis\": {\"endlinecolor\": \"#2a3f5f\", \"gridcolor\": \"white\", \"linecolor\": \"white\", \"minorgridcolor\": \"white\", \"startlinecolor\": \"#2a3f5f\"}, \"baxis\": {\"endlinecolor\": \"#2a3f5f\", \"gridcolor\": \"white\", \"linecolor\": \"white\", \"minorgridcolor\": \"white\", \"startlinecolor\": \"#2a3f5f\"}, \"type\": \"carpet\"}], \"choropleth\": [{\"colorbar\": {\"outlinewidth\": 0, \"ticks\": \"\"}, \"type\": \"choropleth\"}], \"contour\": [{\"colorbar\": {\"outlinewidth\": 0, \"ticks\": \"\"}, \"colorscale\": [[0.0, \"#0d0887\"], [0.1111111111111111, \"#46039f\"], [0.2222222222222222, \"#7201a8\"], [0.3333333333333333, \"#9c179e\"], [0.4444444444444444, \"#bd3786\"], [0.5555555555555556, \"#d8576b\"], [0.6666666666666666, \"#ed7953\"], [0.7777777777777778, \"#fb9f3a\"], [0.8888888888888888, \"#fdca26\"], [1.0, \"#f0f921\"]], \"type\": \"contour\"}], \"contourcarpet\": [{\"colorbar\": {\"outlinewidth\": 0, \"ticks\": \"\"}, \"type\": \"contourcarpet\"}], \"heatmap\": [{\"colorbar\": {\"outlinewidth\": 0, \"ticks\": \"\"}, \"colorscale\": [[0.0, \"#0d0887\"], [0.1111111111111111, \"#46039f\"], [0.2222222222222222, \"#7201a8\"], [0.3333333333333333, \"#9c179e\"], [0.4444444444444444, \"#bd3786\"], [0.5555555555555556, \"#d8576b\"], [0.6666666666666666, \"#ed7953\"], [0.7777777777777778, \"#fb9f3a\"], [0.8888888888888888, \"#fdca26\"], [1.0, \"#f0f921\"]], \"type\": \"heatmap\"}], \"heatmapgl\": [{\"colorbar\": {\"outlinewidth\": 0, \"ticks\": \"\"}, \"colorscale\": [[0.0, \"#0d0887\"], [0.1111111111111111, \"#46039f\"], [0.2222222222222222, \"#7201a8\"], [0.3333333333333333, \"#9c179e\"], [0.4444444444444444, \"#bd3786\"], [0.5555555555555556, \"#d8576b\"], [0.6666666666666666, \"#ed7953\"], [0.7777777777777778, \"#fb9f3a\"], [0.8888888888888888, \"#fdca26\"], [1.0, \"#f0f921\"]], \"type\": \"heatmapgl\"}], \"histogram\": [{\"marker\": {\"colorbar\": {\"outlinewidth\": 0, \"ticks\": \"\"}}, \"type\": \"histogram\"}], \"histogram2d\": [{\"colorbar\": {\"outlinewidth\": 0, \"ticks\": \"\"}, \"colorscale\": [[0.0, \"#0d0887\"], [0.1111111111111111, \"#46039f\"], [0.2222222222222222, \"#7201a8\"], [0.3333333333333333, \"#9c179e\"], [0.4444444444444444, \"#bd3786\"], [0.5555555555555556, \"#d8576b\"], [0.6666666666666666, \"#ed7953\"], [0.7777777777777778, \"#fb9f3a\"], [0.8888888888888888, \"#fdca26\"], [1.0, \"#f0f921\"]], \"type\": \"histogram2d\"}], \"histogram2dcontour\": [{\"colorbar\": {\"outlinewidth\": 0, \"ticks\": \"\"}, \"colorscale\": [[0.0, \"#0d0887\"], [0.1111111111111111, \"#46039f\"], [0.2222222222222222, \"#7201a8\"], [0.3333333333333333, \"#9c179e\"], [0.4444444444444444, \"#bd3786\"], [0.5555555555555556, \"#d8576b\"], [0.6666666666666666, \"#ed7953\"], [0.7777777777777778, \"#fb9f3a\"], [0.8888888888888888, \"#fdca26\"], [1.0, \"#f0f921\"]], \"type\": \"histogram2dcontour\"}], \"mesh3d\": [{\"colorbar\": {\"outlinewidth\": 0, \"ticks\": \"\"}, \"type\": \"mesh3d\"}], \"parcoords\": [{\"line\": {\"colorbar\": {\"outlinewidth\": 0, \"ticks\": \"\"}}, \"type\": \"parcoords\"}], \"pie\": [{\"automargin\": true, \"type\": \"pie\"}], \"scatter\": [{\"marker\": {\"colorbar\": {\"outlinewidth\": 0, \"ticks\": \"\"}}, \"type\": \"scatter\"}], \"scatter3d\": [{\"line\": {\"colorbar\": {\"outlinewidth\": 0, \"ticks\": \"\"}}, \"marker\": {\"colorbar\": {\"outlinewidth\": 0, \"ticks\": \"\"}}, \"type\": \"scatter3d\"}], \"scattercarpet\": [{\"marker\": {\"colorbar\": {\"outlinewidth\": 0, \"ticks\": \"\"}}, \"type\": \"scattercarpet\"}], \"scattergeo\": [{\"marker\": {\"colorbar\": {\"outlinewidth\": 0, \"ticks\": \"\"}}, \"type\": \"scattergeo\"}], \"scattergl\": [{\"marker\": {\"colorbar\": {\"outlinewidth\": 0, \"ticks\": \"\"}}, \"type\": \"scattergl\"}], \"scattermapbox\": [{\"marker\": {\"colorbar\": {\"outlinewidth\": 0, \"ticks\": \"\"}}, \"type\": \"scattermapbox\"}], \"scatterpolar\": [{\"marker\": {\"colorbar\": {\"outlinewidth\": 0, \"ticks\": \"\"}}, \"type\": \"scatterpolar\"}], \"scatterpolargl\": [{\"marker\": {\"colorbar\": {\"outlinewidth\": 0, \"ticks\": \"\"}}, \"type\": \"scatterpolargl\"}], \"scatterternary\": [{\"marker\": {\"colorbar\": {\"outlinewidth\": 0, \"ticks\": \"\"}}, \"type\": \"scatterternary\"}], \"surface\": [{\"colorbar\": {\"outlinewidth\": 0, \"ticks\": \"\"}, \"colorscale\": [[0.0, \"#0d0887\"], [0.1111111111111111, \"#46039f\"], [0.2222222222222222, \"#7201a8\"], [0.3333333333333333, \"#9c179e\"], [0.4444444444444444, \"#bd3786\"], [0.5555555555555556, \"#d8576b\"], [0.6666666666666666, \"#ed7953\"], [0.7777777777777778, \"#fb9f3a\"], [0.8888888888888888, \"#fdca26\"], [1.0, \"#f0f921\"]], \"type\": \"surface\"}], \"table\": [{\"cells\": {\"fill\": {\"color\": \"#EBF0F8\"}, \"line\": {\"color\": \"white\"}}, \"header\": {\"fill\": {\"color\": \"#C8D4E3\"}, \"line\": {\"color\": \"white\"}}, \"type\": \"table\"}]}, \"layout\": {\"annotationdefaults\": {\"arrowcolor\": \"#2a3f5f\", \"arrowhead\": 0, \"arrowwidth\": 1}, \"coloraxis\": {\"colorbar\": {\"outlinewidth\": 0, \"ticks\": \"\"}}, \"colorscale\": {\"diverging\": [[0, \"#8e0152\"], [0.1, \"#c51b7d\"], [0.2, \"#de77ae\"], [0.3, \"#f1b6da\"], [0.4, \"#fde0ef\"], [0.5, \"#f7f7f7\"], [0.6, \"#e6f5d0\"], [0.7, \"#b8e186\"], [0.8, \"#7fbc41\"], [0.9, \"#4d9221\"], [1, \"#276419\"]], \"sequential\": [[0.0, \"#0d0887\"], [0.1111111111111111, \"#46039f\"], [0.2222222222222222, \"#7201a8\"], [0.3333333333333333, \"#9c179e\"], [0.4444444444444444, \"#bd3786\"], [0.5555555555555556, \"#d8576b\"], [0.6666666666666666, \"#ed7953\"], [0.7777777777777778, \"#fb9f3a\"], [0.8888888888888888, \"#fdca26\"], [1.0, \"#f0f921\"]], \"sequentialminus\": [[0.0, \"#0d0887\"], [0.1111111111111111, \"#46039f\"], [0.2222222222222222, \"#7201a8\"], [0.3333333333333333, \"#9c179e\"], [0.4444444444444444, \"#bd3786\"], [0.5555555555555556, \"#d8576b\"], [0.6666666666666666, \"#ed7953\"], [0.7777777777777778, \"#fb9f3a\"], [0.8888888888888888, \"#fdca26\"], [1.0, \"#f0f921\"]]}, \"colorway\": [\"#636efa\", \"#EF553B\", \"#00cc96\", \"#ab63fa\", \"#FFA15A\", \"#19d3f3\", \"#FF6692\", \"#B6E880\", \"#FF97FF\", \"#FECB52\"], \"font\": {\"color\": \"#2a3f5f\"}, \"geo\": {\"bgcolor\": \"white\", \"lakecolor\": \"white\", \"landcolor\": \"#E5ECF6\", \"showlakes\": true, \"showland\": true, \"subunitcolor\": \"white\"}, \"hoverlabel\": {\"align\": \"left\"}, \"hovermode\": \"closest\", \"mapbox\": {\"style\": \"light\"}, \"paper_bgcolor\": \"white\", \"plot_bgcolor\": \"#E5ECF6\", \"polar\": {\"angularaxis\": {\"gridcolor\": \"white\", \"linecolor\": \"white\", \"ticks\": \"\"}, \"bgcolor\": \"#E5ECF6\", \"radialaxis\": {\"gridcolor\": \"white\", \"linecolor\": \"white\", \"ticks\": \"\"}}, \"scene\": {\"xaxis\": {\"backgroundcolor\": \"#E5ECF6\", \"gridcolor\": \"white\", \"gridwidth\": 2, \"linecolor\": \"white\", \"showbackground\": true, \"ticks\": \"\", \"zerolinecolor\": \"white\"}, \"yaxis\": {\"backgroundcolor\": \"#E5ECF6\", \"gridcolor\": \"white\", \"gridwidth\": 2, \"linecolor\": \"white\", \"showbackground\": true, \"ticks\": \"\", \"zerolinecolor\": \"white\"}, \"zaxis\": {\"backgroundcolor\": \"#E5ECF6\", \"gridcolor\": \"white\", \"gridwidth\": 2, \"linecolor\": \"white\", \"showbackground\": true, \"ticks\": \"\", \"zerolinecolor\": \"white\"}}, \"shapedefaults\": {\"line\": {\"color\": \"#2a3f5f\"}}, \"ternary\": {\"aaxis\": {\"gridcolor\": \"white\", \"linecolor\": \"white\", \"ticks\": \"\"}, \"baxis\": {\"gridcolor\": \"white\", \"linecolor\": \"white\", \"ticks\": \"\"}, \"bgcolor\": \"#E5ECF6\", \"caxis\": {\"gridcolor\": \"white\", \"linecolor\": \"white\", \"ticks\": \"\"}}, \"title\": {\"x\": 0.05}, \"xaxis\": {\"automargin\": true, \"gridcolor\": \"white\", \"linecolor\": \"white\", \"ticks\": \"\", \"title\": {\"standoff\": 15}, \"zerolinecolor\": \"white\", \"zerolinewidth\": 2}, \"yaxis\": {\"automargin\": true, \"gridcolor\": \"white\", \"linecolor\": \"white\", \"ticks\": \"\", \"title\": {\"standoff\": 15}, \"zerolinecolor\": \"white\", \"zerolinewidth\": 2}}}, \"title\": {\"text\": \"Weekly Simple Moving Average Hospitalizations vs. Time\"}, \"xaxis\": {\"anchor\": \"y\", \"domain\": [0.0, 1.0], \"title\": {\"text\": \"DATE\"}}, \"yaxis\": {\"anchor\": \"x\", \"domain\": [0.0, 1.0], \"title\": {\"text\": \"SMA7_number_of_hospitalizations\"}}},\n",
              "                        {\"responsive\": true}\n",
              "                    ).then(function(){\n",
              "                            \n",
              "var gd = document.getElementById('b2bd1071-7563-481e-b6c0-12808a0ccee6');\n",
              "var x = new MutationObserver(function (mutations, observer) {{\n",
              "        var display = window.getComputedStyle(gd).display;\n",
              "        if (!display || display === 'none') {{\n",
              "            console.log([gd, 'removed!']);\n",
              "            Plotly.purge(gd);\n",
              "            observer.disconnect();\n",
              "        }}\n",
              "}});\n",
              "\n",
              "// Listen for the removal of the full notebook cells\n",
              "var notebookContainer = gd.closest('#notebook-container');\n",
              "if (notebookContainer) {{\n",
              "    x.observe(notebookContainer, {childList: true});\n",
              "}}\n",
              "\n",
              "// Listen for the clearing of the current output cell\n",
              "var outputEl = gd.closest('.output');\n",
              "if (outputEl) {{\n",
              "    x.observe(outputEl, {childList: true});\n",
              "}}\n",
              "\n",
              "                        })\n",
              "                };\n",
              "                \n",
              "            </script>\n",
              "        </div>\n",
              "</body>\n",
              "</html>"
            ]
          },
          "metadata": {
            "tags": []
          }
        }
      ]
    },
    {
      "cell_type": "code",
      "metadata": {
        "id": "euP2sleZy4J1"
      },
      "source": [
        ""
      ],
      "execution_count": 335,
      "outputs": []
    }
  ]
}